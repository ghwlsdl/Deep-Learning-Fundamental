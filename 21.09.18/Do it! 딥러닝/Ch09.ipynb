{
  "nbformat": 4,
  "nbformat_minor": 0,
  "metadata": {
    "colab": {
      "name": "Ch09.ipynb",
      "provenance": []
    },
    "kernelspec": {
      "name": "python3",
      "display_name": "Python 3"
    },
    "language_info": {
      "name": "python"
    },
    "accelerator": "GPU"
  },
  "cells": [
    {
      "cell_type": "markdown",
      "metadata": {
        "id": "lZq0nOLM-i9r"
      },
      "source": [
        "## 09-2 순환 신경망을 만듭니다"
      ]
    },
    {
      "cell_type": "code",
      "metadata": {
        "id": "8tuqmlzv-i9r"
      },
      "source": [
        "import numpy as np\n",
        "from tensorflow.keras.datasets import imdb"
      ],
      "execution_count": 1,
      "outputs": []
    },
    {
      "cell_type": "code",
      "metadata": {
        "id": "bB7Y2lgT-i9r",
        "colab": {
          "base_uri": "https://localhost:8080/"
        },
        "outputId": "ff1e3e14-26b2-4919-9bc1-a4841cbc153e"
      },
      "source": [
        "(x_train_all, y_train_all), (x_test, y_test) = imdb.load_data(skip_top=20, num_words=100)"
      ],
      "execution_count": 2,
      "outputs": [
        {
          "output_type": "stream",
          "name": "stdout",
          "text": [
            "Downloading data from https://storage.googleapis.com/tensorflow/tf-keras-datasets/imdb.npz\n",
            "17465344/17464789 [==============================] - 0s 0us/step\n",
            "17473536/17464789 [==============================] - 0s 0us/step\n"
          ]
        }
      ]
    },
    {
      "cell_type": "code",
      "metadata": {
        "id": "RW83TkMm-i9s",
        "colab": {
          "base_uri": "https://localhost:8080/"
        },
        "outputId": "4d0d90c8-2786-453a-a789-9f1083af8137"
      },
      "source": [
        "print(x_train_all[0])"
      ],
      "execution_count": 3,
      "outputs": [
        {
          "output_type": "stream",
          "name": "stdout",
          "text": [
            "[2, 2, 22, 2, 43, 2, 2, 2, 2, 65, 2, 2, 66, 2, 2, 2, 36, 2, 2, 25, 2, 43, 2, 2, 50, 2, 2, 2, 35, 2, 2, 2, 2, 2, 2, 2, 2, 2, 2, 2, 39, 2, 2, 2, 2, 2, 2, 38, 2, 2, 2, 2, 50, 2, 2, 2, 2, 2, 2, 22, 2, 2, 2, 2, 2, 22, 71, 87, 2, 2, 43, 2, 38, 76, 2, 2, 2, 2, 22, 2, 2, 2, 2, 2, 2, 2, 2, 2, 62, 2, 2, 2, 2, 2, 2, 2, 2, 2, 2, 2, 2, 66, 2, 33, 2, 2, 2, 2, 38, 2, 2, 25, 2, 51, 36, 2, 48, 25, 2, 33, 2, 22, 2, 2, 28, 77, 52, 2, 2, 2, 2, 82, 2, 2, 2, 2, 2, 2, 2, 2, 2, 2, 2, 2, 2, 2, 36, 71, 43, 2, 2, 26, 2, 2, 46, 2, 2, 2, 2, 2, 2, 88, 2, 2, 2, 2, 98, 32, 2, 56, 26, 2, 2, 2, 2, 2, 2, 2, 22, 21, 2, 2, 26, 2, 2, 2, 30, 2, 2, 51, 36, 28, 2, 92, 25, 2, 2, 2, 65, 2, 38, 2, 88, 2, 2, 2, 2, 2, 2, 2, 2, 32, 2, 2, 2, 2, 2, 32]\n"
          ]
        }
      ]
    },
    {
      "cell_type": "code",
      "metadata": {
        "id": "AGGlzizB-i9t",
        "colab": {
          "base_uri": "https://localhost:8080/"
        },
        "outputId": "360bede4-48f8-4a61-aad4-ba75795dc44a"
      },
      "source": [
        "for i in range(len(x_train_all)):\n",
        "    x_train_all[i] = [w for w in x_train_all[i] if w > 2]\n",
        "\n",
        "print(x_train_all[0])"
      ],
      "execution_count": 4,
      "outputs": [
        {
          "output_type": "stream",
          "name": "stdout",
          "text": [
            "[22, 43, 65, 66, 36, 25, 43, 50, 35, 39, 38, 50, 22, 22, 71, 87, 43, 38, 76, 22, 62, 66, 33, 38, 25, 51, 36, 48, 25, 33, 22, 28, 77, 52, 82, 36, 71, 43, 26, 46, 88, 98, 32, 56, 26, 22, 21, 26, 30, 51, 36, 28, 92, 25, 65, 38, 88, 32, 32]\n"
          ]
        }
      ]
    },
    {
      "cell_type": "code",
      "metadata": {
        "id": "PnziRrOV-i9t",
        "colab": {
          "base_uri": "https://localhost:8080/"
        },
        "outputId": "1941a477-0528-4a3d-a194-a65fb0ff8e90"
      },
      "source": [
        "word_to_index = imdb.get_word_index()\n",
        "\n",
        "word_to_index['movie']"
      ],
      "execution_count": 5,
      "outputs": [
        {
          "output_type": "stream",
          "name": "stdout",
          "text": [
            "Downloading data from https://storage.googleapis.com/tensorflow/tf-keras-datasets/imdb_word_index.json\n",
            "1646592/1641221 [==============================] - 0s 0us/step\n",
            "1654784/1641221 [==============================] - 0s 0us/step\n"
          ]
        },
        {
          "output_type": "execute_result",
          "data": {
            "text/plain": [
              "17"
            ]
          },
          "metadata": {},
          "execution_count": 5
        }
      ]
    },
    {
      "cell_type": "code",
      "metadata": {
        "id": "OtnWluCa-i9u",
        "colab": {
          "base_uri": "https://localhost:8080/"
        },
        "outputId": "7ce3fbc6-5442-48f2-cbe6-31f8a322cef3"
      },
      "source": [
        "index_to_word = {word_to_index[k]: k for k in word_to_index}\n",
        "\n",
        "for w in x_train_all[0]:\n",
        "    print(index_to_word[w - 3], end=' ')"
      ],
      "execution_count": 6,
      "outputs": [
        {
          "output_type": "stream",
          "name": "stdout",
          "text": [
            "film just story really they you just there an from so there film film were great just so much film would really at so you what they if you at film have been good also they were just are out because them all up are film but are be what they have don't you story so because all all "
          ]
        }
      ]
    },
    {
      "cell_type": "code",
      "metadata": {
        "id": "a8mnm0xk-i9u",
        "colab": {
          "base_uri": "https://localhost:8080/"
        },
        "outputId": "268009c5-7ffd-4c5d-8714-d5836169ce71"
      },
      "source": [
        "print(x_train_all.shape, y_train_all.shape)"
      ],
      "execution_count": 7,
      "outputs": [
        {
          "output_type": "stream",
          "name": "stdout",
          "text": [
            "(25000,) (25000,)\n"
          ]
        }
      ]
    },
    {
      "cell_type": "code",
      "metadata": {
        "id": "m6jYt7CG-i9v",
        "colab": {
          "base_uri": "https://localhost:8080/"
        },
        "outputId": "b106d2d0-a296-4504-ba22-94c1bc6fac35"
      },
      "source": [
        "print(len(x_train_all[0]), len(x_train_all[1]))"
      ],
      "execution_count": 8,
      "outputs": [
        {
          "output_type": "stream",
          "name": "stdout",
          "text": [
            "59 32\n"
          ]
        }
      ]
    },
    {
      "cell_type": "code",
      "metadata": {
        "id": "z5-teaRv-i9v",
        "colab": {
          "base_uri": "https://localhost:8080/"
        },
        "outputId": "f4d0a271-d2d6-45b5-d8d7-e6519eacc9de"
      },
      "source": [
        "print(y_train_all[:10])"
      ],
      "execution_count": 9,
      "outputs": [
        {
          "output_type": "stream",
          "name": "stdout",
          "text": [
            "[1 0 0 1 0 0 1 0 1 0]\n"
          ]
        }
      ]
    },
    {
      "cell_type": "code",
      "metadata": {
        "id": "M3HNEvNx-i9v"
      },
      "source": [
        "np.random.seed(42)\n",
        "random_index = np.random.permutation(25000)\n",
        "\n",
        "x_train = x_train_all[random_index[:20000]]\n",
        "y_train = y_train_all[random_index[:20000]]\n",
        "x_val = x_train_all[random_index[20000:]]\n",
        "y_val = y_train_all[random_index[20000:]]"
      ],
      "execution_count": 10,
      "outputs": []
    },
    {
      "cell_type": "code",
      "metadata": {
        "id": "XZIL6Ghj-i9v"
      },
      "source": [
        "from tensorflow.keras.preprocessing import sequence\n",
        "\n",
        "maxlen=100\n",
        "x_train_seq = sequence.pad_sequences(x_train, maxlen=maxlen)\n",
        "x_val_seq = sequence.pad_sequences(x_val, maxlen=maxlen)"
      ],
      "execution_count": 11,
      "outputs": []
    },
    {
      "cell_type": "code",
      "metadata": {
        "id": "5DDjVYVY-i9w",
        "colab": {
          "base_uri": "https://localhost:8080/"
        },
        "outputId": "01066045-b84a-4540-e3ed-eb500df74343"
      },
      "source": [
        "print(x_train_seq.shape, x_val_seq.shape)"
      ],
      "execution_count": 12,
      "outputs": [
        {
          "output_type": "stream",
          "name": "stdout",
          "text": [
            "(20000, 100) (5000, 100)\n"
          ]
        }
      ]
    },
    {
      "cell_type": "code",
      "metadata": {
        "id": "7J0WG33D-i9w",
        "colab": {
          "base_uri": "https://localhost:8080/"
        },
        "outputId": "1f539849-3bc6-4c4c-f47d-1d9834c7067d"
      },
      "source": [
        "print(x_train_seq[0])"
      ],
      "execution_count": 13,
      "outputs": [
        {
          "output_type": "stream",
          "name": "stdout",
          "text": [
            "[ 0  0  0  0  0  0  0  0  0  0  0  0  0  0  0  0  0  0  0  0  0  0  0  0\n",
            "  0  0  0  0  0  0  0  0  0  0  0  0  0  0  0  0  0  0  0  0  0  0  0  0\n",
            "  0  0  0  0  0  0  0  0  0  0  0  0  0  0 35 40 27 28 40 22 83 31 85 45\n",
            " 24 23 31 70 31 76 30 98 32 22 28 51 75 56 30 33 97 53 38 46 53 74 31 35\n",
            " 23 34 22 58]\n"
          ]
        }
      ]
    },
    {
      "cell_type": "code",
      "metadata": {
        "scrolled": true,
        "id": "tc_bNtvw-i9w"
      },
      "source": [
        "from tensorflow.keras.utils import to_categorical\n",
        "\n",
        "x_train_onehot = to_categorical(x_train_seq)\n",
        "x_val_onehot = to_categorical(x_val_seq)"
      ],
      "execution_count": 14,
      "outputs": []
    },
    {
      "cell_type": "code",
      "metadata": {
        "scrolled": true,
        "id": "nJTYFe9A-i9w",
        "colab": {
          "base_uri": "https://localhost:8080/"
        },
        "outputId": "2eea8a80-7093-4e31-9b7f-aafa7f3e829d"
      },
      "source": [
        "print(x_train_onehot.shape)"
      ],
      "execution_count": 15,
      "outputs": [
        {
          "output_type": "stream",
          "name": "stdout",
          "text": [
            "(20000, 100, 100)\n"
          ]
        }
      ]
    },
    {
      "cell_type": "code",
      "metadata": {
        "scrolled": true,
        "id": "Zo5yvEEO-i9x",
        "colab": {
          "base_uri": "https://localhost:8080/"
        },
        "outputId": "c8334ac0-05b1-450c-f92a-1dfa43718e6a"
      },
      "source": [
        "print(x_train_onehot.nbytes)"
      ],
      "execution_count": 16,
      "outputs": [
        {
          "output_type": "stream",
          "name": "stdout",
          "text": [
            "800000000\n"
          ]
        }
      ]
    },
    {
      "cell_type": "code",
      "metadata": {
        "id": "pce0migf-i9x"
      },
      "source": [
        "import tensorflow as tf"
      ],
      "execution_count": 17,
      "outputs": []
    },
    {
      "cell_type": "code",
      "metadata": {
        "id": "eDAuFbq2-i9x"
      },
      "source": [
        "class RecurrentNetwork:\n",
        "    \n",
        "    def __init__(self, n_cells=10, batch_size=32, learning_rate=0.1):\n",
        "        self.n_cells = n_cells     # 셀 개수\n",
        "        self.batch_size = batch_size     # 배치 크기\n",
        "        self.w1h = None            # 은닉 상태에 대한 가중치\n",
        "        self.w1x = None            # 입력에 대한 가중치\n",
        "        self.b1 = None             # 순환층의 절편\n",
        "        self.w2 = None             # 출력층의 가중치\n",
        "        self.b2 = None             # 출력층의 절편\n",
        "        self.h = None              # 순환층의 활성화 출력\n",
        "        self.losses = []           # 훈련 손실\n",
        "        self.val_losses = []       # 검증 손실\n",
        "        self.lr = learning_rate    # 학습률\n",
        "\n",
        "    def forpass(self, x):\n",
        "        self.h = [np.zeros((x.shape[0], self.n_cells))]   # 은닉 상태를 초기화합니다.\n",
        "        # 배치 차원과 타임 스텝 차원을 바꿉니다.\n",
        "        seq = np.swapaxes(x, 0, 1)\n",
        "        # 순환 층의 선형 식을 계산합니다.\n",
        "        for x in seq:\n",
        "            z1 = np.dot(x, self.w1x) + np.dot(self.h[-1], self.w1h) + self.b1\n",
        "            h = np.tanh(z1)                    # 활성화 함수를 적용합니다.\n",
        "            self.h.append(h)                   # 역전파를 위해 은닉 상태 저장합니다.\n",
        "            z2 = np.dot(h, self.w2) + self.b2  # 출력층의 선형 식을 계산합니다.\n",
        "        return z2\n",
        "\n",
        "    def backprop(self, x, err):\n",
        "        m = len(x)       # 샘플 개수\n",
        "        \n",
        "        # 출력층의 가중치와 절편에 대한 그래디언트를 계산합니다.\n",
        "        w2_grad = np.dot(self.h[-1].T, err) / m\n",
        "        b2_grad = np.sum(err) / m\n",
        "        # 배치 차원과 타임 스텝 차원을 바꿉니다.\n",
        "        seq = np.swapaxes(x, 0, 1)\n",
        "        \n",
        "        w1h_grad = w1x_grad = b1_grad = 0\n",
        "        # 셀 직전까지 그래디언트를 계산합니다.\n",
        "        err_to_cell = np.dot(err, self.w2.T) * (1 - self.h[-1] ** 2)\n",
        "        # 모든 타임 스텝을 거슬러가면서 그래디언트를 전파합니다.\n",
        "        for x, h in zip(seq[::-1][:10], self.h[:-1][::-1][:10]):\n",
        "            w1h_grad += np.dot(h.T, err_to_cell)\n",
        "            w1x_grad += np.dot(x.T, err_to_cell)\n",
        "            b1_grad += np.sum(err_to_cell, axis=0)\n",
        "            # 이전 타임 스텝의 셀 직전까지 그래디언트를 계산합니다.\n",
        "            err_to_cell = np.dot(err_to_cell, self.w1h) * (1 - h ** 2)\n",
        "        \n",
        "        w1h_grad /= m\n",
        "        w1x_grad /= m\n",
        "        b1_grad /= m\n",
        "    \n",
        "        return w1h_grad, w1x_grad, b1_grad, w2_grad, b2_grad\n",
        "    \n",
        "    def sigmoid(self, z):\n",
        "        z = np.clip(z, -100, None)            # 안전한 np.exp() 계산을 위해\n",
        "        a = 1 / (1 + np.exp(-z))              # 시그모이드 계산\n",
        "        return a\n",
        "    \n",
        "    def init_weights(self, n_features, n_classes):\n",
        "        orth_init = tf.initializers.Orthogonal()\n",
        "        glorot_init = tf.initializers.GlorotUniform()\n",
        "        \n",
        "        self.w1h = orth_init((self.n_cells, self.n_cells)).numpy() # (셀 개수, 셀 개수)\n",
        "        self.w1x = glorot_init((n_features, self.n_cells)).numpy() # (특성 개수, 셀 개수)\n",
        "        self.b1 = np.zeros(self.n_cells)                           # 은닉층의 크기\n",
        "        self.w2 = glorot_init((self.n_cells, n_classes)).numpy()   # (셀 개수, 클래스 개수)\n",
        "        self.b2 = np.zeros(n_classes)\n",
        "        \n",
        "    def fit(self, x, y, epochs=100, x_val=None, y_val=None):\n",
        "        y = y.reshape(-1, 1)\n",
        "        y_val = y_val.reshape(-1, 1)\n",
        "        np.random.seed(42)\n",
        "        self.init_weights(x.shape[2], y.shape[1])    # 은닉층과 출력층의 가중치를 초기화합니다.\n",
        "        # epochs만큼 반복합니다.\n",
        "        for i in range(epochs):\n",
        "            print('에포크', i, end=' ')\n",
        "            # 제너레이터 함수에서 반환한 미니배치를 순환합니다.\n",
        "            batch_losses = []\n",
        "            for x_batch, y_batch in self.gen_batch(x, y):\n",
        "                print('.', end='')\n",
        "                a = self.training(x_batch, y_batch)\n",
        "                # 안전한 로그 계산을 위해 클리핑합니다.\n",
        "                a = np.clip(a, 1e-10, 1-1e-10)\n",
        "                # 로그 손실과 규제 손실을 더하여 리스트에 추가합니다.\n",
        "                loss = np.mean(-(y_batch*np.log(a) + (1-y_batch)*np.log(1-a)))\n",
        "                batch_losses.append(loss)\n",
        "            print()\n",
        "            self.losses.append(np.mean(batch_losses))\n",
        "            # 검증 세트에 대한 손실을 계산합니다.\n",
        "            self.update_val_loss(x_val, y_val)\n",
        "\n",
        "    # 미니배치 제너레이터 함수\n",
        "    def gen_batch(self, x, y):\n",
        "        length = len(x)\n",
        "        bins = length // self.batch_size # 미니배치 횟수\n",
        "        if length % self.batch_size:\n",
        "            bins += 1                    # 나누어 떨어지지 않을 때\n",
        "        indexes = np.random.permutation(np.arange(len(x))) # 인덱스를 섞습니다.\n",
        "        x = x[indexes]\n",
        "        y = y[indexes]\n",
        "        for i in range(bins):\n",
        "            start = self.batch_size * i\n",
        "            end = self.batch_size * (i + 1)\n",
        "            yield x[start:end], y[start:end]   # batch_size만큼 슬라이싱하여 반환합니다.\n",
        "            \n",
        "    def training(self, x, y):\n",
        "        m = len(x)                # 샘플 개수를 저장합니다.\n",
        "        z = self.forpass(x)       # 정방향 계산을 수행합니다.\n",
        "        a = self.sigmoid(z)       # 활성화 함수를 적용합니다.\n",
        "        err = -(y - a)            # 오차를 계산합니다.\n",
        "        # 오차를 역전파하여 그래디언트를 계산합니다.\n",
        "        w1h_grad, w1x_grad, b1_grad, w2_grad, b2_grad = self.backprop(x, err)\n",
        "        # 셀의 가중치와 절편을 업데이트합니다.\n",
        "        self.w1h -= self.lr * w1h_grad\n",
        "        self.w1x -= self.lr * w1x_grad\n",
        "        self.b1 -= self.lr * b1_grad\n",
        "        # 출력층의 가중치와 절편을 업데이트합니다.\n",
        "        self.w2 -= self.lr * w2_grad\n",
        "        self.b2 -= self.lr * b2_grad\n",
        "        return a\n",
        "   \n",
        "    def predict(self, x):\n",
        "        z = self.forpass(x)          # 정방향 계산을 수행합니다.\n",
        "        return z > 0                 # 스텝 함수를 적용합니다.\n",
        "    \n",
        "    def score(self, x, y):\n",
        "        # 예측과 타깃 열 벡터를 비교하여 True의 비율을 반환합니다.\n",
        "        return np.mean(self.predict(x) == y.reshape(-1, 1))\n",
        "\n",
        "    def update_val_loss(self, x_val, y_val):\n",
        "        z = self.forpass(x_val)            # 정방향 계산을 수행합니다.\n",
        "        a = self.sigmoid(z)                # 활성화 함수를 적용합니다.\n",
        "        a = np.clip(a, 1e-10, 1-1e-10)     # 출력 값을 클리핑합니다.\n",
        "        val_loss = np.mean(-(y_val*np.log(a) + (1-y_val)*np.log(1-a)))\n",
        "        self.val_losses.append(val_loss)"
      ],
      "execution_count": 18,
      "outputs": []
    },
    {
      "cell_type": "code",
      "metadata": {
        "scrolled": true,
        "id": "vvwaZZgY-i9y",
        "colab": {
          "base_uri": "https://localhost:8080/"
        },
        "outputId": "d61909c7-f6c2-4727-a32d-e18898ac7fd7"
      },
      "source": [
        "rn = RecurrentNetwork(n_cells=32, batch_size=32, learning_rate=0.01)\n",
        "\n",
        "rn.fit(x_train_onehot, y_train, epochs=20, x_val=x_val_onehot, y_val=y_val)"
      ],
      "execution_count": 19,
      "outputs": [
        {
          "output_type": "stream",
          "name": "stdout",
          "text": [
            "에포크 0 .................................................................................................................................................................................................................................................................................................................................................................................................................................................................................................................................................................................................................................................\n",
            "에포크 1 .................................................................................................................................................................................................................................................................................................................................................................................................................................................................................................................................................................................................................................................\n",
            "에포크 2 .................................................................................................................................................................................................................................................................................................................................................................................................................................................................................................................................................................................................................................................\n",
            "에포크 3 .................................................................................................................................................................................................................................................................................................................................................................................................................................................................................................................................................................................................................................................\n",
            "에포크 4 .................................................................................................................................................................................................................................................................................................................................................................................................................................................................................................................................................................................................................................................\n",
            "에포크 5 .................................................................................................................................................................................................................................................................................................................................................................................................................................................................................................................................................................................................................................................\n",
            "에포크 6 .................................................................................................................................................................................................................................................................................................................................................................................................................................................................................................................................................................................................................................................\n",
            "에포크 7 .................................................................................................................................................................................................................................................................................................................................................................................................................................................................................................................................................................................................................................................\n",
            "에포크 8 .................................................................................................................................................................................................................................................................................................................................................................................................................................................................................................................................................................................................................................................\n",
            "에포크 9 .................................................................................................................................................................................................................................................................................................................................................................................................................................................................................................................................................................................................................................................\n",
            "에포크 10 .................................................................................................................................................................................................................................................................................................................................................................................................................................................................................................................................................................................................................................................\n",
            "에포크 11 .................................................................................................................................................................................................................................................................................................................................................................................................................................................................................................................................................................................................................................................\n",
            "에포크 12 .................................................................................................................................................................................................................................................................................................................................................................................................................................................................................................................................................................................................................................................\n",
            "에포크 13 .................................................................................................................................................................................................................................................................................................................................................................................................................................................................................................................................................................................................................................................\n",
            "에포크 14 .................................................................................................................................................................................................................................................................................................................................................................................................................................................................................................................................................................................................................................................\n",
            "에포크 15 .................................................................................................................................................................................................................................................................................................................................................................................................................................................................................................................................................................................................................................................\n",
            "에포크 16 .................................................................................................................................................................................................................................................................................................................................................................................................................................................................................................................................................................................................................................................\n",
            "에포크 17 .................................................................................................................................................................................................................................................................................................................................................................................................................................................................................................................................................................................................................................................\n",
            "에포크 18 .................................................................................................................................................................................................................................................................................................................................................................................................................................................................................................................................................................................................................................................\n",
            "에포크 19 .................................................................................................................................................................................................................................................................................................................................................................................................................................................................................................................................................................................................................................................\n"
          ]
        }
      ]
    },
    {
      "cell_type": "code",
      "metadata": {
        "id": "SQ9BG1Le-i9y"
      },
      "source": [
        "import matplotlib.pyplot as plt"
      ],
      "execution_count": 21,
      "outputs": []
    },
    {
      "cell_type": "code",
      "metadata": {
        "id": "vSZHIi54-i9y",
        "colab": {
          "base_uri": "https://localhost:8080/",
          "height": 265
        },
        "outputId": "6762eb0c-e1a5-4f80-b7b1-29e223138457"
      },
      "source": [
        "plt.plot(rn.losses)\n",
        "plt.plot(rn.val_losses)\n",
        "plt.show()"
      ],
      "execution_count": 22,
      "outputs": [
        {
          "output_type": "display_data",
          "data": {
            "image/png": "[encoded data removed]",
            "text/plain": [
              "<Figure size 432x288 with 1 Axes>"
            ]
          },
          "metadata": {
            "needs_background": "light"
          }
        }
      ]
    },
    {
      "cell_type": "code",
      "metadata": {
        "scrolled": true,
        "id": "BcT_xsDg-i9y",
        "colab": {
          "base_uri": "https://localhost:8080/"
        },
        "outputId": "fcaa40c6-d07e-41ad-f19e-72c9f24e3e48"
      },
      "source": [
        "rn.score(x_val_onehot, y_val)"
      ],
      "execution_count": 23,
      "outputs": [
        {
          "output_type": "execute_result",
          "data": {
            "text/plain": [
              "0.5844"
            ]
          },
          "metadata": {},
          "execution_count": 23
        }
      ]
    },
    {
      "cell_type": "markdown",
      "metadata": {
        "id": "HnI5Gb0F-i9y"
      },
      "source": [
        "## 09-3 텐서플로로 순환 신경망을 만듭니다"
      ]
    },
    {
      "cell_type": "code",
      "metadata": {
        "id": "s6l_eILT-i9z"
      },
      "source": [
        "from tensorflow.keras.models import Sequential\n",
        "from tensorflow.keras.layers import Dense, SimpleRNN"
      ],
      "execution_count": 24,
      "outputs": []
    },
    {
      "cell_type": "code",
      "metadata": {
        "id": "GymVpzWL-i9z",
        "colab": {
          "base_uri": "https://localhost:8080/"
        },
        "outputId": "3ca31116-52b1-4043-cfdd-e145ae02cb59"
      },
      "source": [
        "model = Sequential()\n",
        "\n",
        "model.add(SimpleRNN(32, input_shape=(100, 100)))\n",
        "model.add(Dense(1, activation='sigmoid'))\n",
        "\n",
        "model.summary()"
      ],
      "execution_count": 25,
      "outputs": [
        {
          "output_type": "stream",
          "name": "stdout",
          "text": [
            "Model: \"sequential\"\n",
            "_________________________________________________________________\n",
            "Layer (type)                 Output Shape              Param #   \n",
            "=================================================================\n",
            "simple_rnn (SimpleRNN)       (None, 32)                4256      \n",
            "_________________________________________________________________\n",
            "dense (Dense)                (None, 1)                 33        \n",
            "=================================================================\n",
            "Total params: 4,289\n",
            "Trainable params: 4,289\n",
            "Non-trainable params: 0\n",
            "_________________________________________________________________\n"
          ]
        }
      ]
    },
    {
      "cell_type": "code",
      "metadata": {
        "id": "lJ4B6S7h-i9z",
        "colab": {
          "base_uri": "https://localhost:8080/"
        },
        "outputId": "359da2b8-b4e9-4590-cdd6-72a17a538af6"
      },
      "source": [
        "model.compile(optimizer='sgd', loss='binary_crossentropy', metrics=['accuracy'])\n",
        "\n",
        "history = model.fit(x_train_onehot, y_train, epochs=20, batch_size=32, \n",
        "                    validation_data=(x_val_onehot, y_val))"
      ],
      "execution_count": 26,
      "outputs": [
        {
          "output_type": "stream",
          "name": "stdout",
          "text": [
            "Epoch 1/20\n",
            "625/625 [==============================] - 13s 19ms/step - loss: 0.6887 - accuracy: 0.5540 - val_loss: 0.6946 - val_accuracy: 0.5524\n",
            "Epoch 2/20\n",
            "625/625 [==============================] - 12s 19ms/step - loss: 0.6599 - accuracy: 0.6076 - val_loss: 0.6291 - val_accuracy: 0.6560\n",
            "Epoch 3/20\n",
            "625/625 [==============================] - 12s 20ms/step - loss: 0.6358 - accuracy: 0.6449 - val_loss: 0.6211 - val_accuracy: 0.6610\n",
            "Epoch 4/20\n",
            "625/625 [==============================] - 12s 20ms/step - loss: 0.6212 - accuracy: 0.6596 - val_loss: 0.6023 - val_accuracy: 0.6816\n",
            "Epoch 5/20\n",
            "625/625 [==============================] - 12s 20ms/step - loss: 0.6093 - accuracy: 0.6697 - val_loss: 0.6040 - val_accuracy: 0.6734\n",
            "Epoch 6/20\n",
            "625/625 [==============================] - 13s 20ms/step - loss: 0.5995 - accuracy: 0.6810 - val_loss: 0.6495 - val_accuracy: 0.6450\n",
            "Epoch 7/20\n",
            "625/625 [==============================] - 13s 20ms/step - loss: 0.5943 - accuracy: 0.6847 - val_loss: 0.5844 - val_accuracy: 0.6922\n",
            "Epoch 8/20\n",
            "625/625 [==============================] - 13s 20ms/step - loss: 0.5900 - accuracy: 0.6913 - val_loss: 0.5698 - val_accuracy: 0.7118\n",
            "Epoch 9/20\n",
            "625/625 [==============================] - 13s 20ms/step - loss: 0.5861 - accuracy: 0.6923 - val_loss: 0.6114 - val_accuracy: 0.6658\n",
            "Epoch 10/20\n",
            "625/625 [==============================] - 13s 20ms/step - loss: 0.5806 - accuracy: 0.6966 - val_loss: 0.5731 - val_accuracy: 0.7070\n",
            "Epoch 11/20\n",
            "625/625 [==============================] - 13s 20ms/step - loss: 0.5821 - accuracy: 0.6974 - val_loss: 0.5646 - val_accuracy: 0.7188\n",
            "Epoch 12/20\n",
            "625/625 [==============================] - 13s 20ms/step - loss: 0.5775 - accuracy: 0.6984 - val_loss: 0.5841 - val_accuracy: 0.6972\n",
            "Epoch 13/20\n",
            "625/625 [==============================] - 12s 19ms/step - loss: 0.5750 - accuracy: 0.7023 - val_loss: 0.5974 - val_accuracy: 0.6832\n",
            "Epoch 14/20\n",
            "625/625 [==============================] - 12s 19ms/step - loss: 0.5710 - accuracy: 0.7034 - val_loss: 0.5762 - val_accuracy: 0.6996\n",
            "Epoch 15/20\n",
            "625/625 [==============================] - 12s 20ms/step - loss: 0.5702 - accuracy: 0.7042 - val_loss: 0.5904 - val_accuracy: 0.6932\n",
            "Epoch 16/20\n",
            "625/625 [==============================] - 12s 19ms/step - loss: 0.5697 - accuracy: 0.7040 - val_loss: 0.5797 - val_accuracy: 0.7024\n",
            "Epoch 17/20\n",
            "625/625 [==============================] - 12s 19ms/step - loss: 0.5677 - accuracy: 0.7077 - val_loss: 0.6674 - val_accuracy: 0.6256\n",
            "Epoch 18/20\n",
            "625/625 [==============================] - 12s 19ms/step - loss: 0.5686 - accuracy: 0.7042 - val_loss: 0.5727 - val_accuracy: 0.7170\n",
            "Epoch 19/20\n",
            "625/625 [==============================] - 12s 19ms/step - loss: 0.5634 - accuracy: 0.7102 - val_loss: 0.5866 - val_accuracy: 0.6874\n",
            "Epoch 20/20\n",
            "625/625 [==============================] - 12s 19ms/step - loss: 0.5643 - accuracy: 0.7082 - val_loss: 0.5694 - val_accuracy: 0.7074\n"
          ]
        }
      ]
    },
    {
      "cell_type": "code",
      "metadata": {
        "id": "P9JbIT0a-i9z",
        "colab": {
          "base_uri": "https://localhost:8080/",
          "height": 268
        },
        "outputId": "2e39a3e6-bc2d-4c9b-8f44-817a08cc9157"
      },
      "source": [
        "plt.plot(history.history['loss'])\n",
        "plt.plot(history.history['val_loss'])\n",
        "plt.show()"
      ],
      "execution_count": 27,
      "outputs": [
        {
          "output_type": "display_data",
          "data": {
            "image/png": "[encoded data removed]",
            "text/plain": [
              "<Figure size 432x288 with 1 Axes>"
            ]
          },
          "metadata": {
            "needs_background": "light"
          }
        }
      ]
    },
    {
      "cell_type": "code",
      "metadata": {
        "scrolled": false,
        "id": "Ygpe5dJb-i9z",
        "colab": {
          "base_uri": "https://localhost:8080/",
          "height": 267
        },
        "outputId": "e7bd671e-3387-48c6-d06e-f58361081c6b"
      },
      "source": [
        "plt.plot(history.history['accuracy'])\n",
        "plt.plot(history.history['val_accuracy'])\n",
        "plt.show()"
      ],
      "execution_count": 28,
      "outputs": [
        {
          "output_type": "display_data",
          "data": {
            "image/png": "[encoded data removed]",
            "text/plain": [
              "<Figure size 432x288 with 1 Axes>"
            ]
          },
          "metadata": {
            "needs_background": "light"
          }
        }
      ]
    },
    {
      "cell_type": "code",
      "metadata": {
        "scrolled": true,
        "id": "B5tdYrHI-i9z",
        "colab": {
          "base_uri": "https://localhost:8080/"
        },
        "outputId": "809b447d-b572-4940-8f16-955bb50c01b2"
      },
      "source": [
        "loss, accuracy = model.evaluate(x_val_onehot, y_val, verbose=0)\n",
        "print(accuracy)"
      ],
      "execution_count": 29,
      "outputs": [
        {
          "output_type": "stream",
          "name": "stdout",
          "text": [
            "0.7074000239372253\n"
          ]
        }
      ]
    },
    {
      "cell_type": "code",
      "metadata": {
        "id": "fuRof-82-i9z"
      },
      "source": [
        "from tensorflow.keras.layers import Embedding"
      ],
      "execution_count": 30,
      "outputs": []
    },
    {
      "cell_type": "code",
      "metadata": {
        "id": "cLIPDxtF-i90"
      },
      "source": [
        "(x_train_all, y_train_all), (x_test, y_test) = imdb.load_data(skip_top=20, num_words=1000)\n",
        "\n",
        "for i in range(len(x_train_all)):\n",
        "    x_train_all[i] = [w for w in x_train_all[i] if w > 2]\n",
        "    \n",
        "x_train = x_train_all[random_index[:20000]]\n",
        "y_train = y_train_all[random_index[:20000]]\n",
        "x_val = x_train_all[random_index[20000:]]\n",
        "y_val = y_train_all[random_index[20000:]]"
      ],
      "execution_count": 31,
      "outputs": []
    },
    {
      "cell_type": "code",
      "metadata": {
        "id": "UtFZeN3s-i90"
      },
      "source": [
        "maxlen=100\n",
        "x_train_seq = sequence.pad_sequences(x_train, maxlen=maxlen)\n",
        "x_val_seq = sequence.pad_sequences(x_val, maxlen=maxlen)"
      ],
      "execution_count": 32,
      "outputs": []
    },
    {
      "cell_type": "code",
      "metadata": {
        "scrolled": true,
        "id": "RpikvyLJ-i90",
        "colab": {
          "base_uri": "https://localhost:8080/"
        },
        "outputId": "3399f401-9177-497c-d159-6ef7cd5903ae"
      },
      "source": [
        "model_ebd = Sequential()\n",
        "\n",
        "model_ebd.add(Embedding(1000, 32))\n",
        "model_ebd.add(SimpleRNN(8))\n",
        "model_ebd.add(Dense(1, activation='sigmoid'))\n",
        "\n",
        "model_ebd.summary()"
      ],
      "execution_count": 33,
      "outputs": [
        {
          "output_type": "stream",
          "name": "stdout",
          "text": [
            "Model: \"sequential_1\"\n",
            "_________________________________________________________________\n",
            "Layer (type)                 Output Shape              Param #   \n",
            "=================================================================\n",
            "embedding (Embedding)        (None, None, 32)          32000     \n",
            "_________________________________________________________________\n",
            "simple_rnn_1 (SimpleRNN)     (None, 8)                 328       \n",
            "_________________________________________________________________\n",
            "dense_1 (Dense)              (None, 1)                 9         \n",
            "=================================================================\n",
            "Total params: 32,337\n",
            "Trainable params: 32,337\n",
            "Non-trainable params: 0\n",
            "_________________________________________________________________\n"
          ]
        }
      ]
    },
    {
      "cell_type": "code",
      "metadata": {
        "scrolled": true,
        "id": "MkxR6a5X-i90",
        "colab": {
          "base_uri": "https://localhost:8080/"
        },
        "outputId": "5ac72c7c-af94-4c9c-bc4b-338094a42246"
      },
      "source": [
        "model_ebd.compile(optimizer='adam', loss='binary_crossentropy', metrics=['accuracy'])\n",
        "\n",
        "history = model_ebd.fit(x_train_seq, y_train, epochs=10, batch_size=32, \n",
        "                        validation_data=(x_val_seq, y_val))"
      ],
      "execution_count": null,
      "outputs": [
        {
          "output_type": "stream",
          "name": "stdout",
          "text": [
            "Epoch 1/10\n",
            "625/625 [==============================] - 14s 21ms/step - loss: 0.6088 - accuracy: 0.6533 - val_loss: 0.5048 - val_accuracy: 0.7660\n",
            "Epoch 2/10\n",
            "625/625 [==============================] - 13s 21ms/step - loss: 0.4446 - accuracy: 0.8045 - val_loss: 0.4520 - val_accuracy: 0.7984\n",
            "Epoch 3/10\n",
            "625/625 [==============================] - 13s 21ms/step - loss: 0.3799 - accuracy: 0.8439 - val_loss: 0.4244 - val_accuracy: 0.8132\n",
            "Epoch 4/10\n",
            "625/625 [==============================] - 13s 21ms/step - loss: 0.3368 - accuracy: 0.8637 - val_loss: 0.4180 - val_accuracy: 0.8134\n",
            "Epoch 5/10\n",
            "625/625 [==============================] - 13s 21ms/step - loss: 0.2992 - accuracy: 0.8842 - val_loss: 0.4209 - val_accuracy: 0.8250\n",
            "Epoch 6/10\n",
            "625/625 [==============================] - 13s 21ms/step - loss: 0.2744 - accuracy: 0.8932 - val_loss: 0.4422 - val_accuracy: 0.8110\n",
            "Epoch 7/10\n",
            "359/625 [================>.............] - ETA: 5s - loss: 0.2392 - accuracy: 0.9110"
          ]
        }
      ]
    },
    {
      "cell_type": "code",
      "metadata": {
        "id": "InKiA_9L-i90",
        "colab": {
          "base_uri": "https://localhost:8080/",
          "height": 268
        },
        "outputId": "99096b90-119a-4e02-a3c2-2eb52d7cdaaa"
      },
      "source": [
        "plt.plot(history.history['loss'])\n",
        "plt.plot(history.history['val_loss'])\n",
        "plt.show()"
      ],
      "execution_count": null,
      "outputs": [
        {
          "output_type": "display_data",
          "data": {
            "image/png": "[encoded data removed]",
            "text/plain": [
              "<Figure size 432x288 with 1 Axes>"
            ]
          },
          "metadata": {
            "tags": [],
            "needs_background": "light"
          }
        }
      ]
    },
    {
      "cell_type": "code",
      "metadata": {
        "scrolled": true,
        "id": "IQakah7b-i90",
        "colab": {
          "base_uri": "https://localhost:8080/",
          "height": 265
        },
        "outputId": "d693e23b-e500-4f95-8bb4-1891fe693a0b"
      },
      "source": [
        "plt.plot(history.history['accuracy'])\n",
        "plt.plot(history.history['val_accuracy'])\n",
        "plt.show()"
      ],
      "execution_count": null,
      "outputs": [
        {
          "output_type": "display_data",
          "data": {
            "image/png": "[encoded data removed]",
            "text/plain": [
              "<Figure size 432x288 with 1 Axes>"
            ]
          },
          "metadata": {
            "tags": [],
            "needs_background": "light"
          }
        }
      ]
    },
    {
      "cell_type": "code",
      "metadata": {
        "scrolled": false,
        "id": "duoWIPWg-i90",
        "colab": {
          "base_uri": "https://localhost:8080/"
        },
        "outputId": "0e630de9-5b34-4a94-b46b-7bf7ca116d45"
      },
      "source": [
        "loss, accuracy = model_ebd.evaluate(x_val_seq, y_val, verbose=0)\n",
        "print(accuracy)"
      ],
      "execution_count": null,
      "outputs": [
        {
          "output_type": "stream",
          "text": [
            "0.8222000002861023\n"
          ],
          "name": "stdout"
        }
      ]
    },
    {
      "cell_type": "markdown",
      "metadata": {
        "id": "yRDb5Pzw-i91"
      },
      "source": [
        "## 09-4 LSTM 순환 신경망으로 텍스트를 분류합니다"
      ]
    },
    {
      "cell_type": "code",
      "metadata": {
        "id": "5YwrVAbu-i91"
      },
      "source": [
        "from tensorflow.keras.layers import LSTM"
      ],
      "execution_count": null,
      "outputs": []
    },
    {
      "cell_type": "code",
      "metadata": {
        "id": "tWIahIdr-i91",
        "colab": {
          "base_uri": "https://localhost:8080/"
        },
        "outputId": "1791320d-5c37-4399-9119-e624e2c7e4ef"
      },
      "source": [
        "model_lstm = Sequential()\n",
        "\n",
        "model_lstm.add(Embedding(1000, 32))\n",
        "model_lstm.add(LSTM(8))\n",
        "model_lstm.add(Dense(1, activation='sigmoid'))\n",
        "\n",
        "model_lstm.summary()"
      ],
      "execution_count": null,
      "outputs": [
        {
          "output_type": "stream",
          "text": [
            "Model: \"sequential_2\"\n",
            "_________________________________________________________________\n",
            "Layer (type)                 Output Shape              Param #   \n",
            "=================================================================\n",
            "embedding_1 (Embedding)      (None, None, 32)          32000     \n",
            "_________________________________________________________________\n",
            "lstm (LSTM)                  (None, 8)                 1312      \n",
            "_________________________________________________________________\n",
            "dense_2 (Dense)              (None, 1)                 9         \n",
            "=================================================================\n",
            "Total params: 33,321\n",
            "Trainable params: 33,321\n",
            "Non-trainable params: 0\n",
            "_________________________________________________________________\n"
          ],
          "name": "stdout"
        }
      ]
    },
    {
      "cell_type": "code",
      "metadata": {
        "scrolled": true,
        "id": "nXPEIoK0-i91",
        "colab": {
          "base_uri": "https://localhost:8080/"
        },
        "outputId": "5804c736-3fbf-46c0-93ef-ca2e591cebe7"
      },
      "source": [
        "model_lstm.compile(optimizer='adam', loss='binary_crossentropy', metrics=['accuracy'])\n",
        "\n",
        "history = model_lstm.fit(x_train_seq, y_train, epochs=10, batch_size=32, \n",
        "                         validation_data=(x_val_seq, y_val))"
      ],
      "execution_count": null,
      "outputs": [
        {
          "output_type": "stream",
          "text": [
            "Epoch 1/10\n",
            "625/625 [==============================] - 19s 24ms/step - loss: 0.4649 - accuracy: 0.7789 - val_loss: 0.3846 - val_accuracy: 0.8302\n",
            "Epoch 2/10\n",
            "625/625 [==============================] - 14s 23ms/step - loss: 0.3422 - accuracy: 0.8553 - val_loss: 0.3633 - val_accuracy: 0.8410\n",
            "Epoch 3/10\n",
            "625/625 [==============================] - 14s 23ms/step - loss: 0.3174 - accuracy: 0.8649 - val_loss: 0.3667 - val_accuracy: 0.8438\n",
            "Epoch 4/10\n",
            "625/625 [==============================] - 14s 23ms/step - loss: 0.2994 - accuracy: 0.8744 - val_loss: 0.3676 - val_accuracy: 0.8362\n",
            "Epoch 5/10\n",
            "625/625 [==============================] - 15s 23ms/step - loss: 0.2858 - accuracy: 0.8778 - val_loss: 0.3697 - val_accuracy: 0.8416\n",
            "Epoch 6/10\n",
            "625/625 [==============================] - 15s 23ms/step - loss: 0.2717 - accuracy: 0.8858 - val_loss: 0.4014 - val_accuracy: 0.8434\n",
            "Epoch 7/10\n",
            "625/625 [==============================] - 14s 23ms/step - loss: 0.2584 - accuracy: 0.8924 - val_loss: 0.3867 - val_accuracy: 0.8402\n",
            "Epoch 8/10\n",
            "625/625 [==============================] - 14s 23ms/step - loss: 0.2463 - accuracy: 0.8967 - val_loss: 0.3921 - val_accuracy: 0.8356\n",
            "Epoch 9/10\n",
            "625/625 [==============================] - 14s 23ms/step - loss: 0.2337 - accuracy: 0.9011 - val_loss: 0.4145 - val_accuracy: 0.8392\n",
            "Epoch 10/10\n",
            "625/625 [==============================] - 14s 23ms/step - loss: 0.2232 - accuracy: 0.9099 - val_loss: 0.4468 - val_accuracy: 0.8372\n"
          ],
          "name": "stdout"
        }
      ]
    },
    {
      "cell_type": "code",
      "metadata": {
        "id": "eWY0F36b-i91",
        "colab": {
          "base_uri": "https://localhost:8080/",
          "height": 265
        },
        "outputId": "d7494b7f-2049-4b89-95eb-8d32ff25b2bc"
      },
      "source": [
        "plt.plot(history.history['loss'])\n",
        "plt.plot(history.history['val_loss'])\n",
        "plt.show()"
      ],
      "execution_count": null,
      "outputs": [
        {
          "output_type": "display_data",
          "data": {
            "image/png": "[encoded data removed]",
            "text/plain": [
              "<Figure size 432x288 with 1 Axes>"
            ]
          },
          "metadata": {
            "tags": [],
            "needs_background": "light"
          }
        }
      ]
    },
    {
      "cell_type": "code",
      "metadata": {
        "scrolled": false,
        "id": "kTtN2yJ3-i91",
        "colab": {
          "base_uri": "https://localhost:8080/",
          "height": 265
        },
        "outputId": "34500d77-3753-4ddd-c74f-0d774c7bb162"
      },
      "source": [
        "plt.plot(history.history['accuracy'])\n",
        "plt.plot(history.history['val_accuracy'])\n",
        "plt.show()"
      ],
      "execution_count": null,
      "outputs": [
        {
          "output_type": "display_data",
          "data": {
            "image/png": "[encoded data removed]",
            "text/plain": [
              "<Figure size 432x288 with 1 Axes>"
            ]
          },
          "metadata": {
            "tags": [],
            "needs_background": "light"
          }
        }
      ]
    },
    {
      "cell_type": "code",
      "metadata": {
        "scrolled": false,
        "id": "ey31ydRE-i91",
        "colab": {
          "base_uri": "https://localhost:8080/"
        },
        "outputId": "412a1497-e166-493a-f9ad-407f6ae09f7f"
      },
      "source": [
        "loss, accuracy = model_lstm.evaluate(x_val_seq, y_val, verbose=0)\n",
        "print(accuracy)"
      ],
      "execution_count": null,
      "outputs": [
        {
          "output_type": "stream",
          "text": [
            "0.8371999859809875\n"
          ],
          "name": "stdout"
        }
      ]
    }
  ]
}