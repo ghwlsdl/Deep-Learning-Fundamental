{
  "nbformat": 4,
  "nbformat_minor": 0,
  "metadata": {
    "colab": {
      "name": "ch04.ipynb",
      "provenance": [],
      "collapsed_sections": []
    },
    "kernelspec": {
      "name": "python3",
      "display_name": "Python 3"
    },
    "language_info": {
      "name": "python"
    },
    "accelerator": "GPU"
  },
  "cells": [
    {
      "cell_type": "markdown",
      "metadata": {
        "id": "fDyJJVbG79nC"
      },
      "source": [
        "4장\n",
        "\n",
        "04-1 초기 인공지능 알고리즘과 로지스틱 회귀"
      ]
    },
    {
      "cell_type": "markdown",
      "metadata": {
        "id": "cxBpMPku8QFK"
      },
      "source": [
        "이진 분류는 True(1) / False(0 or -1) 로 구분하는 문제 -> 계단형으로 그래프 형성\n",
        "\n",
        "퍼셉트론 (Perceptron): 1957년 프랑크 로제네블라트가 발표\n",
        "\n",
        "여러 개의 특성을 표현하는 방법 -> z=w1x1+w2x2+b 와 같이 나열\n",
        "\n",
        "아달린 (Adalune) -> 역방향 계산을 통해서 계단 함수를 돌출\n",
        "\n",
        "로지스틱 회귀 란 분류 알고리즘이며, z 값을 활성화 함수 -> 역방향 계산 -> 임계함수 (계단형) 등을 통하여 y_hat을 돌출"
      ]
    },
    {
      "cell_type": "markdown",
      "metadata": {
        "id": "Uq33N7iN9lBB"
      },
      "source": [
        "04-2 시그모이드 함수로 확률을 만듭니다"
      ]
    },
    {
      "cell_type": "markdown",
      "metadata": {
        "id": "NpBIAuWvLWvf"
      },
      "source": [
        "04-3 로지스틱 손실 함수를 경사 하강법에 적용\n",
        "\n",
        "분류의 정확도는 미분 가능한 함수가 아닙니다.\n",
        "\n",
        "대신 이진 크로스 엔트로피 또는 로지스틱 손실 함수를 사용합니다.\n",
        "\n",
        "미분의 연쇄법칙\n",
        "\n",
        "check point 겉미속미 하는 것을 잊지 말 것!\n",
        "\n",
        "공식에 대한 증명 진행\n",
        "\n",
        "\n"
      ]
    },
    {
      "cell_type": "markdown",
      "metadata": {
        "id": "xbq-VusONzfZ"
      },
      "source": [
        "4장 4~5절 로지스틱 회귀를 위한 뉴런을 만듭니다.\n",
        "- 이진 분류\n",
        "\n",
        "04-4 분류용 데이터 세트를 준비합니다."
      ]
    },
    {
      "cell_type": "code",
      "metadata": {
        "id": "8pV1C2b579Aw"
      },
      "source": [
        "import numpy as np\n",
        "import matplotlib.pyplot as plt\n",
        "np.random.seed(42)"
      ],
      "execution_count": 1,
      "outputs": []
    },
    {
      "cell_type": "code",
      "metadata": {
        "colab": {
          "base_uri": "https://localhost:8080/",
          "height": 279
        },
        "id": "O9Dzv-l_MHEZ",
        "outputId": "644f35d0-e2ee-4ac1-dbfc-c269b4ef00b4"
      },
      "source": [
        "probs = np.arange(0, 1, 0.01)\n",
        "odds = [p/(1-p) for p in probs]\n",
        "plt.plot(probs, odds)\n",
        "plt.xlabel('p')\n",
        "plt.ylabel('p/(1-p)')\n",
        "plt.show()"
      ],
      "execution_count": 2,
      "outputs": [
        {
          "output_type": "display_data",
          "data": {
            "image/png": "[encoded data removed]",
            "text/plain": [
              "<Figure size 432x288 with 1 Axes>"
            ]
          },
          "metadata": {
            "needs_background": "light"
          }
        }
      ]
    },
    {
      "cell_type": "code",
      "metadata": {
        "colab": {
          "base_uri": "https://localhost:8080/",
          "height": 279
        },
        "id": "kbdXqZk0On2W",
        "outputId": "87ef76a2-6003-4438-8e09-ba3ad4e1ea76"
      },
      "source": [
        "probs  = np.arange(0.001, 0.999, 0.001)\n",
        "logit = [np.log(p/(1-p)) for p in probs]\n",
        "plt.plot(probs, logit)\n",
        "plt.xlabel('p')\n",
        "plt.ylabel('log(p/(1-p))')\n",
        "plt.show()"
      ],
      "execution_count": 3,
      "outputs": [
        {
          "output_type": "display_data",
          "data": {
            "image/png": "[encoded data removed]",
            "text/plain": [
              "<Figure size 432x288 with 1 Axes>"
            ]
          },
          "metadata": {
            "needs_background": "light"
          }
        }
      ]
    },
    {
      "cell_type": "code",
      "metadata": {
        "colab": {
          "base_uri": "https://localhost:8080/",
          "height": 279
        },
        "id": "eyNmCgg-Ot1f",
        "outputId": "af9dd7c5-1740-43b4-a5f7-54c7487c9626"
      },
      "source": [
        "zs = np.arange(-10., 10., 0.1)\n",
        "gs = [1/(1+np.exp(-z)) for z in zs]\n",
        "plt.plot(zs, gs)\n",
        "plt.xlabel('z')\n",
        "plt.ylabel('1/(1+e^-z)')\n",
        "plt.show()"
      ],
      "execution_count": 4,
      "outputs": [
        {
          "output_type": "display_data",
          "data": {
            "image/png": "[encoded data removed]",
            "text/plain": [
              "<Figure size 432x288 with 1 Axes>"
            ]
          },
          "metadata": {
            "needs_background": "light"
          }
        }
      ]
    },
    {
      "cell_type": "code",
      "metadata": {
        "id": "YPF28KAjOufC"
      },
      "source": [
        "from sklearn.datasets import load_breast_cancer\n",
        "cancer = load_breast_cancer()"
      ],
      "execution_count": 5,
      "outputs": []
    },
    {
      "cell_type": "code",
      "metadata": {
        "colab": {
          "base_uri": "https://localhost:8080/"
        },
        "id": "sUVXLGxhOxei",
        "outputId": "3642def7-a01b-403f-acd4-f80de39edaca"
      },
      "source": [
        "print(cancer.data.shape, cancer.target.shape)"
      ],
      "execution_count": 6,
      "outputs": [
        {
          "output_type": "stream",
          "name": "stdout",
          "text": [
            "(569, 30) (569,)\n"
          ]
        }
      ]
    },
    {
      "cell_type": "code",
      "metadata": {
        "colab": {
          "base_uri": "https://localhost:8080/"
        },
        "id": "nLo0BQq1OznN",
        "outputId": "bc8a1963-afbf-48ce-b100-7ff1b6af47d4"
      },
      "source": [
        "cancer.data[:3]"
      ],
      "execution_count": 7,
      "outputs": [
        {
          "output_type": "execute_result",
          "data": {
            "text/plain": [
              "array([[1.799e+01, 1.038e+01, 1.228e+02, 1.001e+03, 1.184e-01, 2.776e-01,\n",
              "        3.001e-01, 1.471e-01, 2.419e-01, 7.871e-02, 1.095e+00, 9.053e-01,\n",
              "        8.589e+00, 1.534e+02, 6.399e-03, 4.904e-02, 5.373e-02, 1.587e-02,\n",
              "        3.003e-02, 6.193e-03, 2.538e+01, 1.733e+01, 1.846e+02, 2.019e+03,\n",
              "        1.622e-01, 6.656e-01, 7.119e-01, 2.654e-01, 4.601e-01, 1.189e-01],\n",
              "       [2.057e+01, 1.777e+01, 1.329e+02, 1.326e+03, 8.474e-02, 7.864e-02,\n",
              "        8.690e-02, 7.017e-02, 1.812e-01, 5.667e-02, 5.435e-01, 7.339e-01,\n",
              "        3.398e+00, 7.408e+01, 5.225e-03, 1.308e-02, 1.860e-02, 1.340e-02,\n",
              "        1.389e-02, 3.532e-03, 2.499e+01, 2.341e+01, 1.588e+02, 1.956e+03,\n",
              "        1.238e-01, 1.866e-01, 2.416e-01, 1.860e-01, 2.750e-01, 8.902e-02],\n",
              "       [1.969e+01, 2.125e+01, 1.300e+02, 1.203e+03, 1.096e-01, 1.599e-01,\n",
              "        1.974e-01, 1.279e-01, 2.069e-01, 5.999e-02, 7.456e-01, 7.869e-01,\n",
              "        4.585e+00, 9.403e+01, 6.150e-03, 4.006e-02, 3.832e-02, 2.058e-02,\n",
              "        2.250e-02, 4.571e-03, 2.357e+01, 2.553e+01, 1.525e+02, 1.709e+03,\n",
              "        1.444e-01, 4.245e-01, 4.504e-01, 2.430e-01, 3.613e-01, 8.758e-02]])"
            ]
          },
          "metadata": {},
          "execution_count": 7
        }
      ]
    },
    {
      "cell_type": "code",
      "metadata": {
        "colab": {
          "base_uri": "https://localhost:8080/",
          "height": 279
        },
        "id": "CYUfaJQVO07Y",
        "outputId": "0465b241-473a-4c8c-ec9b-1f474350e5b0"
      },
      "source": [
        "# 박스 플롯(상자 수염 그래프) 그려서 데이터 파악하기\n",
        "\n",
        "plt.boxplot(cancer.data)\n",
        "plt.xlabel('feature')\n",
        "plt.ylabel('value')\n",
        "plt.show()"
      ],
      "execution_count": 8,
      "outputs": [
        {
          "output_type": "display_data",
          "data": {
            "image/png": "[encoded data removed]",
            "text/plain": [
              "<Figure size 432x288 with 1 Axes>"
            ]
          },
          "metadata": {
            "needs_background": "light"
          }
        }
      ]
    },
    {
      "cell_type": "code",
      "metadata": {
        "colab": {
          "base_uri": "https://localhost:8080/"
        },
        "id": "i1dswhJHRGYE",
        "outputId": "c4f7783e-e390-46d2-8f40-c975b53d1190"
      },
      "source": [
        "cancer.feature_names[[3,13,23]]"
      ],
      "execution_count": 10,
      "outputs": [
        {
          "output_type": "execute_result",
          "data": {
            "text/plain": [
              "array(['mean area', 'area error', 'worst area'], dtype='<U23')"
            ]
          },
          "metadata": {},
          "execution_count": 10
        }
      ]
    },
    {
      "cell_type": "code",
      "metadata": {
        "colab": {
          "base_uri": "https://localhost:8080/"
        },
        "id": "TURnA8vKRNUn",
        "outputId": "7e394d30-8bda-4576-cb15-39ba9622c1bd"
      },
      "source": [
        "np.unique(cancer.target, return_counts=True)"
      ],
      "execution_count": 11,
      "outputs": [
        {
          "output_type": "execute_result",
          "data": {
            "text/plain": [
              "(array([0, 1]), array([212, 357]))"
            ]
          },
          "metadata": {},
          "execution_count": 11
        }
      ]
    },
    {
      "cell_type": "code",
      "metadata": {
        "id": "fGQNEKfYRP9M"
      },
      "source": [
        "x = cancer.data\n",
        "y = cancer.target"
      ],
      "execution_count": 12,
      "outputs": []
    },
    {
      "cell_type": "markdown",
      "metadata": {
        "id": "u9SaW7KK76IX"
      },
      "source": [
        "## 04-5 로지스틱 회귀로 모델을 만들어봅니다"
      ]
    },
    {
      "cell_type": "markdown",
      "metadata": {
        "id": "c-AOMJfMQblV"
      },
      "source": [
        "일반화 성능을 평가하기 위한 룬련세트와 테스트 세트로 나눕니다.\n",
        "\n",
        "훈련 데이터 세트를 훈련 세트와 테스트 세트로 나누는 규칙\n",
        "\n",
        ". 훈련 데이터 세트를 나눌 떄는 테스트 세트 보다 훈련 세트가 더 많아야 합니다.\n",
        "\n",
        ". 훈련 데이터 세트를 나누기 전에 양성, 음성 클래스가 훈련 세트나\n",
        "  테스트 세트의 어느 한 쪽에 몰리지 않도록 골고루 섞어야 합니다."
      ]
    },
    {
      "cell_type": "code",
      "metadata": {
        "id": "_wVtaWB376IY"
      },
      "source": [
        "from sklearn.model_selection import train_test_split"
      ],
      "execution_count": 13,
      "outputs": []
    },
    {
      "cell_type": "code",
      "metadata": {
        "id": "V1-lbDRx76IY"
      },
      "source": [
        "x_train, x_test, y_train, y_test = train_test_split(x, y, stratify=y, test_size=0.2, random_state=42)"
      ],
      "execution_count": 14,
      "outputs": []
    },
    {
      "cell_type": "code",
      "metadata": {
        "id": "SSUYktPv76IZ",
        "colab": {
          "base_uri": "https://localhost:8080/"
        },
        "outputId": "306b33d6-d3e4-4608-e4d6-3c5d3f5e64f8"
      },
      "source": [
        "print(x_train.shape, x_test.shape)"
      ],
      "execution_count": 15,
      "outputs": [
        {
          "output_type": "stream",
          "name": "stdout",
          "text": [
            "(455, 30) (114, 30)\n"
          ]
        }
      ]
    },
    {
      "cell_type": "code",
      "metadata": {
        "id": "vO2kNwG776Ia",
        "colab": {
          "base_uri": "https://localhost:8080/"
        },
        "outputId": "52be5fd5-2bff-4602-df6e-8559dd4e3e45"
      },
      "source": [
        "np.unique(y_train, return_counts=True)"
      ],
      "execution_count": 32,
      "outputs": [
        {
          "output_type": "execute_result",
          "data": {
            "text/plain": [
              "(array([0, 1]), array([170, 285]))"
            ]
          },
          "metadata": {},
          "execution_count": 32
        }
      ]
    },
    {
      "cell_type": "code",
      "metadata": {
        "id": "CKWdsXF276Ia"
      },
      "source": [
        "# 로지스틱 뉴런 구현하기\n",
        "\n",
        "class LogisticNeuron:   # Neuron 클래스와 비슷\n",
        "    \n",
        "    def __init__(self):   # 가중치와 절편을 미리 초기화 하지 않습니다.\n",
        "        self.w = None\n",
        "        self.b = None\n",
        "\n",
        "    def forpass(self, x):\n",
        "        z = np.sum(x * self.w) + self.b  # 직선 방정식을 계산합니다\n",
        "        return z\n",
        "\n",
        "        # a = np.array([1, 2, 3])\n",
        "        # b = np.array([3, 4, 5]) \n",
        "        # print(a + b)\n",
        "        # array([4, 6, 8])\n",
        "        # print (a * b)\n",
        "        # array([3, 8, 15])\n",
        "        # np.sum(a * b)\n",
        "        # 26\n",
        "\n",
        "    def backprop(self, x, err):\n",
        "        w_grad = x * err    # 가중치에 대한 그래디언트를 계산합니다\n",
        "        b_grad = 1 * err    # 절편에 대한 그래디언트를 계산합니다\n",
        "        return w_grad, b_grad\n",
        "\n",
        "    def fit(self, x, y, epochs=100):\n",
        "        self.w = np.ones(x.shape[1])      # 가중치를 초기화합니다.\n",
        "        self.b = 0                        # 절편을 초기화합니다.\n",
        "        for i in range(epochs):           # epochs만큼 반복합니다\n",
        "            for x_i, y_i in zip(x, y):    # 모든 샘플에 대해 반복합니다\n",
        "                z = self.forpass(x_i)     # 정방향 계산\n",
        "                a = self.activation(z)    # 활성화 함수 적용\n",
        "                err = -(y_i - a)          # 오차 계산\n",
        "                w_grad, b_grad = self.backprop(x_i, err) # 역방향 계산\n",
        "                self.w -= w_grad          # 가중치 업데이트\n",
        "                self.b -= b_grad          # 절편 업데이트\n",
        "\n",
        "    def activation(self, z):\n",
        "        z = np.clip(z, -100, None) # 안전한 np.exp() 계산을 위해\n",
        "        a = 1 / (1 + np.exp(-z))  # 시그모이드 계산\n",
        "        return a\n",
        "\n",
        "    \n",
        "    def predict(self, x):\n",
        "        z = [self.forpass(x_i) for x_i in x]    # 정방향 계산   -> x = [1, 2, 3] 를 x_i 로 치환을 해서 forpass 함수에 넣어서 나온 값이 z의 값으로 나오도록 진행\n",
        "        a = self.activation(np.array(z))        # 활성화 함수 적용\n",
        "        return a > 0.5                          # 께단 함수 적용 - > a 의 값이 0.5 보다 크면 true, a 의 값이 0.5 보다 작으면 false가 나오도록 구현 ex. [0.1, 0.3, 0.7] -> [F, F, T]"
      ],
      "execution_count": 34,
      "outputs": []
    },
    {
      "cell_type": "code",
      "metadata": {
        "colab": {
          "base_uri": "https://localhost:8080/",
          "height": 222
        },
        "id": "6JyEA_4yWkY1",
        "outputId": "700bda4e-99ab-444a-8183-50179c8b1cfb"
      },
      "source": [
        "neuron = LogisticNeuron()\n",
        "neuron.fit(x_train, y_train)\n",
        "\n",
        "np.mean(neuron.predict(x_train) == y_test)"
      ],
      "execution_count": 25,
      "outputs": [
        {
          "output_type": "error",
          "ename": "NameError",
          "evalue": "ignored",
          "traceback": [
            "\u001b[0;31m---------------------------------------------------------------------------\u001b[0m",
            "\u001b[0;31mNameError\u001b[0m                                 Traceback (most recent call last)",
            "\u001b[0;32m<ipython-input-25-831304e167a5>\u001b[0m in \u001b[0;36m<module>\u001b[0;34m()\u001b[0m\n\u001b[0;32m----> 1\u001b[0;31m \u001b[0mneuron\u001b[0m \u001b[0;34m=\u001b[0m \u001b[0mLogisticNeuron\u001b[0m\u001b[0;34m(\u001b[0m\u001b[0;34m)\u001b[0m\u001b[0;34m\u001b[0m\u001b[0;34m\u001b[0m\u001b[0m\n\u001b[0m\u001b[1;32m      2\u001b[0m \u001b[0mneuron\u001b[0m\u001b[0;34m.\u001b[0m\u001b[0mfit\u001b[0m\u001b[0;34m(\u001b[0m\u001b[0mx_train\u001b[0m\u001b[0;34m,\u001b[0m \u001b[0my_train\u001b[0m\u001b[0;34m)\u001b[0m\u001b[0;34m\u001b[0m\u001b[0;34m\u001b[0m\u001b[0m\n\u001b[1;32m      3\u001b[0m \u001b[0;34m\u001b[0m\u001b[0m\n\u001b[1;32m      4\u001b[0m \u001b[0mnp\u001b[0m\u001b[0;34m.\u001b[0m\u001b[0mmean\u001b[0m\u001b[0;34m(\u001b[0m\u001b[0mneuron\u001b[0m\u001b[0;34m.\u001b[0m\u001b[0mpredict\u001b[0m\u001b[0;34m(\u001b[0m\u001b[0mx_train\u001b[0m\u001b[0;34m)\u001b[0m \u001b[0;34m==\u001b[0m \u001b[0my_test\u001b[0m\u001b[0;34m)\u001b[0m\u001b[0;34m\u001b[0m\u001b[0;34m\u001b[0m\u001b[0m\n",
            "\u001b[0;31mNameError\u001b[0m: name 'LogisticNeuron' is not defined"
          ]
        }
      ]
    },
    {
      "cell_type": "code",
      "metadata": {
        "id": "QNfqo50176Ic"
      },
      "source": [
        "a = np.array([1,2,3])\n",
        "b = np.array([3,4,5])"
      ],
      "execution_count": 35,
      "outputs": []
    },
    {
      "cell_type": "code",
      "metadata": {
        "id": "6PMkPZcZ76Ic",
        "colab": {
          "base_uri": "https://localhost:8080/"
        },
        "outputId": "62e04faa-6de1-4d3c-827f-9a0730103bb7"
      },
      "source": [
        "a + b"
      ],
      "execution_count": 36,
      "outputs": [
        {
          "output_type": "execute_result",
          "data": {
            "text/plain": [
              "array([4, 6, 8])"
            ]
          },
          "metadata": {},
          "execution_count": 36
        }
      ]
    },
    {
      "cell_type": "code",
      "metadata": {
        "id": "TO1SpTEu76Ic",
        "colab": {
          "base_uri": "https://localhost:8080/"
        },
        "outputId": "f5853541-f462-486a-d24c-daac3170d71f"
      },
      "source": [
        "a * b"
      ],
      "execution_count": 37,
      "outputs": [
        {
          "output_type": "execute_result",
          "data": {
            "text/plain": [
              "array([ 3,  8, 15])"
            ]
          },
          "metadata": {},
          "execution_count": 37
        }
      ]
    },
    {
      "cell_type": "code",
      "metadata": {
        "id": "fmUO8b5e76Id",
        "colab": {
          "base_uri": "https://localhost:8080/"
        },
        "outputId": "6588734f-3f2f-4603-e023-0f5873c87f9e"
      },
      "source": [
        "np.sum(a * b)"
      ],
      "execution_count": 38,
      "outputs": [
        {
          "output_type": "execute_result",
          "data": {
            "text/plain": [
              "26"
            ]
          },
          "metadata": {},
          "execution_count": 38
        }
      ]
    },
    {
      "cell_type": "code",
      "metadata": {
        "id": "zinKLUCf76Id",
        "colab": {
          "base_uri": "https://localhost:8080/"
        },
        "outputId": "c653978f-9a5a-49e4-ae6e-2717440b6ccb"
      },
      "source": [
        "np.zeros((2, 3))"
      ],
      "execution_count": 39,
      "outputs": [
        {
          "output_type": "execute_result",
          "data": {
            "text/plain": [
              "array([[0., 0., 0.],\n",
              "       [0., 0., 0.]])"
            ]
          },
          "metadata": {},
          "execution_count": 39
        }
      ]
    },
    {
      "cell_type": "code",
      "metadata": {
        "id": "BZoYXE3a76Ie",
        "colab": {
          "base_uri": "https://localhost:8080/"
        },
        "outputId": "3a6957f6-16b8-47be-cb04-eed225a7fca6"
      },
      "source": [
        "np.full((2,3), 7)"
      ],
      "execution_count": 40,
      "outputs": [
        {
          "output_type": "execute_result",
          "data": {
            "text/plain": [
              "array([[7, 7, 7],\n",
              "       [7, 7, 7]])"
            ]
          },
          "metadata": {},
          "execution_count": 40
        }
      ]
    },
    {
      "cell_type": "code",
      "metadata": {
        "id": "_uyNpDml76Ie",
        "colab": {
          "base_uri": "https://localhost:8080/"
        },
        "outputId": "6062e7aa-5be9-43e0-b279-daacb7f3035b"
      },
      "source": [
        "np.c_[np.zeros((2,3)), np.ones((2,3))]"
      ],
      "execution_count": 41,
      "outputs": [
        {
          "output_type": "execute_result",
          "data": {
            "text/plain": [
              "array([[0., 0., 0., 1., 1., 1.],\n",
              "       [0., 0., 0., 1., 1., 1.]])"
            ]
          },
          "metadata": {},
          "execution_count": 41
        }
      ]
    },
    {
      "cell_type": "code",
      "metadata": {
        "id": "uYHihujn76Ie"
      },
      "source": [
        "neuron = LogisticNeuron()\n",
        "neuron.fit(x_train, y_train)"
      ],
      "execution_count": 42,
      "outputs": []
    },
    {
      "cell_type": "code",
      "metadata": {
        "id": "Gs9dzdfB76Ie",
        "colab": {
          "base_uri": "https://localhost:8080/"
        },
        "outputId": "600b26db-fd79-4dcb-c350-cc7c24b91619"
      },
      "source": [
        "np.mean(neuron.predict(x_test) == y_test) # x_test의 값이 결과값만큼 일치 함을 예측하게 해준다."
      ],
      "execution_count": 44,
      "outputs": [
        {
          "output_type": "execute_result",
          "data": {
            "text/plain": [
              "0.8245614035087719"
            ]
          },
          "metadata": {},
          "execution_count": 44
        }
      ]
    },
    {
      "cell_type": "markdown",
      "metadata": {
        "id": "D0zRmlHT76Ie"
      },
      "source": [
        "##04-6 로지스틱 회귀 뉴런으로 단일층 신경망을 만들어 봅니다"
      ]
    },
    {
      "cell_type": "markdown",
      "metadata": {
        "id": "uXtLRQwuY6rZ"
      },
      "source": [
        "일반적으로 신경망이 구축 되는 단계로는\n",
        "\n",
        "입력층, 은닉층, 출력층으로 구성되어 있으며\n",
        "\n",
        "입력층은 입력 데이터 layer 를 의미하며\n",
        "은닉층은 딥러닝 신층 신경망을 의미하고 시그모이드 (활성화 함수) 와 함께 구현합니다.\n",
        "\n",
        "은닉층이 없는 신경망을 로지스틱 회귀 뉴런이라라고 합니다.\n",
        "\n",
        "위의 신경망은, 입력층 (w1x1, w2x2, b) , 출력층 (z, 활성화 함수, 입력 함수) 로 구성 되어 있습니다."
      ]
    },
    {
      "cell_type": "code",
      "metadata": {
        "id": "5a9MhBKy76Ie"
      },
      "source": [
        "# 손실 함수 결과값 저장 기능 추가하기\n",
        "\n",
        "class SingleLayer:\n",
        "    \n",
        "    def __init__(self):\n",
        "        self.w = None\n",
        "        self.b = None\n",
        "        self.losses = []\n",
        "\n",
        "    def forpass(self, x):\n",
        "        z = np.sum(x * self.w) + self.b  # 직선 방정식을 계산합니다\n",
        "        return z\n",
        "\n",
        "    def backprop(self, x, err):\n",
        "        w_grad = x * err    # 가중치에 대한 그래디언트를 계산합니다\n",
        "        b_grad = 1 * err    # 절편에 대한 그래디언트를 계산합니다\n",
        "        return w_grad, b_grad\n",
        "\n",
        "    def activation(self, z):\n",
        "        z = np.clip(z, -100, None) # 안전한 np.exp() 계산을 위해\n",
        "        a = 1 / (1 + np.exp(-z))  # 시그모이드 계산\n",
        "        return a\n",
        "\n",
        "    # 에포크마다 훈련 샘플 섞기\n",
        "\n",
        "    def fit(self, x, y, epochs=100):\n",
        "        self.w = np.ones(x.shape[1])               # 가중치를 초기화합니다.\n",
        "        self.b = 0                                 # 절편을 초기화합니다.\n",
        "        for i in range(epochs):                    # epochs만큼 반복합니다\n",
        "            loss = 0\n",
        "            indexes = np.random.permutation(np.arange(len(x)))  # 인덱스를 섞습니다\n",
        "            for i in indexes:                      # 모든 샘플에 대해 반복합니다\n",
        "                z = self.forpass(x[i])             # 정방향 계산\n",
        "                a = self.activation(z)             # 활성화 함수 적용\n",
        "                err = -(y[i] - a)                  # 오차 계산\n",
        "                w_grad, b_grad = self.backprop(x[i], err) # 역방향 계산\n",
        "                self.w -= w_grad                   # 가중치 업데이트\n",
        "                self.b -= b_grad                   # 절편 업데이트\n",
        "                # 안전한 로그 계산을 위해 클리핑한 후 손실을 누적합니다\n",
        "                a = np.clip(a, 1e-10, 1-1e-10)\n",
        "                loss += -(y[i]*np.log(a)+(1-y[i])*np.log(1-a))\n",
        "            # 에포크마다 평균 손실을 저장합니다\n",
        "            self.losses.append(loss/len(y))\n",
        "    \n",
        "    def predict(self, x):\n",
        "        z = [self.forpass(x_i) for x_i in x]     # 정방향 계산\n",
        "        return np.array(z) > 0                   # 스텝 함수 적용\n",
        "    \n",
        "    def score(self, x, y):\n",
        "        return np.mean(self.predict(x) == y)"
      ],
      "execution_count": 51,
      "outputs": []
    },
    {
      "cell_type": "markdown",
      "metadata": {
        "id": "yb7ag7ega7wG"
      },
      "source": [
        "## 여러가지 경사 하강법\n",
        "\n",
        "### 확률적 경사 하강법\n",
        "- 1개의 샘플을 중복되지 않도록 무작위로 선택 -> 그레이디언트 계산\n",
        "\n",
        "### 미니 배치 경사 하강법 (위 와 아래의 중간)\n",
        "- 전체 샘플 중 몇 개의 샘플을 중복되지 않도록 -> 그레이디언트 계산\n",
        "\n",
        "### 배치 경사 하강법\n",
        "- 전체 샘플을 모두 선택 -> 그레이디언트 계산"
      ]
    },
    {
      "cell_type": "code",
      "metadata": {
        "id": "5WixcPcfdfnx"
      },
      "source": [
        " def predict(self, x):\n",
        "        z = [self.forpass(x_i) for x_i in x]     # 정방향 계산\n",
        "        return np.array(z) > 0                   # 스텝 함수 적용 -> a > 0.5 양 / < 0.5 음 -> z > 0 / < 0\n",
        "\n",
        "    def score(self, x, y):\n",
        "        return np.mean(self.predict(x) == y)"
      ],
      "execution_count": null,
      "outputs": []
    },
    {
      "cell_type": "code",
      "metadata": {
        "id": "qfSYFm3q76If",
        "colab": {
          "base_uri": "https://localhost:8080/"
        },
        "outputId": "a06299e7-cbd7-4df2-f6e1-2fab91dc789c"
      },
      "source": [
        "layer = SingleLayer()\n",
        "layer.fit(x_train, y_train)\n",
        "layer.score(x_test, y_test)"
      ],
      "execution_count": 52,
      "outputs": [
        {
          "output_type": "execute_result",
          "data": {
            "text/plain": [
              "0.9298245614035088"
            ]
          },
          "metadata": {},
          "execution_count": 52
        }
      ]
    },
    {
      "cell_type": "code",
      "metadata": {
        "scrolled": true,
        "id": "ksldKctV76If",
        "colab": {
          "base_uri": "https://localhost:8080/",
          "height": 279
        },
        "outputId": "7c3430b3-7c59-436c-b606-6476b87cabc8"
      },
      "source": [
        "plt.plot(layer.losses)\n",
        "plt.xlabel('epoch')\n",
        "plt.ylabel('loss')\n",
        "plt.show()"
      ],
      "execution_count": 53,
      "outputs": [
        {
          "output_type": "display_data",
          "data": {
            "image/png": "[encoded data removed]",
            "text/plain": [
              "<Figure size 432x288 with 1 Axes>"
            ]
          },
          "metadata": {
            "needs_background": "light"
          }
        }
      ]
    },
    {
      "cell_type": "markdown",
      "metadata": {
        "id": "MuJhgdBc76If"
      },
      "source": [
        "## 04-7 사이킷런의 경사 하강법을 사용해 봅니다"
      ]
    },
    {
      "cell_type": "code",
      "metadata": {
        "id": "AjAVdFF676If"
      },
      "source": [
        "from sklearn.linear_model import SGDClassifier"
      ],
      "execution_count": 54,
      "outputs": []
    },
    {
      "cell_type": "code",
      "metadata": {
        "id": "UALIYjjU76Ig",
        "colab": {
          "base_uri": "https://localhost:8080/"
        },
        "outputId": "38d8ba45-3849-4a45-c03e-631af0fde656"
      },
      "source": [
        "sgd = SGDClassifier(loss='log', max_iter=100, tol=1e-3, random_state=42) # 회귀는 SGDRegressor로 하고 'log' 는 로지스틱 손실 함수를 지정함을 의미합니다.\n",
        "sgd.fit(x_train, y_train)\n",
        "sgd.score(x_test, y_test)"
      ],
      "execution_count": 55,
      "outputs": [
        {
          "output_type": "execute_result",
          "data": {
            "text/plain": [
              "0.8333333333333334"
            ]
          },
          "metadata": {},
          "execution_count": 55
        }
      ]
    },
    {
      "cell_type": "code",
      "metadata": {
        "id": "_OV6IrIM76Ig",
        "colab": {
          "base_uri": "https://localhost:8080/"
        },
        "outputId": "eb7fcefc-5e29-414b-b134-0b51865be396"
      },
      "source": [
        "sgd.predict(x_test[0:10])"
      ],
      "execution_count": 56,
      "outputs": [
        {
          "output_type": "execute_result",
          "data": {
            "text/plain": [
              "array([0, 1, 0, 0, 0, 0, 1, 0, 0, 0])"
            ]
          },
          "metadata": {},
          "execution_count": 56
        }
      ]
    },
    {
      "cell_type": "code",
      "metadata": {
        "id": "X5FLK3QRQUNC"
      },
      "source": [
        ""
      ],
      "execution_count": 56,
      "outputs": []
    }
  ]
}