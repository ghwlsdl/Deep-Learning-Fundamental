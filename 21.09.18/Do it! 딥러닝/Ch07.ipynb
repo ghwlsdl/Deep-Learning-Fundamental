{
  "nbformat": 4,
  "nbformat_minor": 0,
  "metadata": {
    "colab": {
      "name": "Ch07.ipynb",
      "provenance": [],
      "collapsed_sections": []
    },
    "kernelspec": {
      "name": "python3",
      "display_name": "Python 3"
    },
    "language_info": {
      "name": "python"
    },
    "accelerator": "GPU"
  },
  "cells": [
    {
      "cell_type": "markdown",
      "metadata": {
        "id": "jf-MZl0furRo"
      },
      "source": [
        "#07 여러 개를 분류합니다.\n",
        "- 다중 분류 (multiclass classification)"
      ]
    },
    {
      "cell_type": "markdown",
      "metadata": {
        "id": "OBG8uzkf2nih"
      },
      "source": [
        "## 07-1 여러 개의 이미지를 분류하는 다층 신경망을 만듭니다\n",
        "\n"
      ]
    },
    {
      "cell_type": "code",
      "metadata": {
        "id": "1YhFRgV02nih"
      },
      "source": [
        "import numpy as np"
      ],
      "execution_count": 1,
      "outputs": []
    },
    {
      "cell_type": "code",
      "metadata": {
        "id": "WwDJQdgj2nih"
      },
      "source": [
        "# 다중 분류 신경망 구현 import numpy as np\n",
        "\n",
        "class MultiClassNetwork:\n",
        "    \n",
        "    def __init__(self, units=10, batch_size=32, learning_rate=0.1, l1=0, l2=0):\n",
        "        self.units = units         # 은닉층의 뉴런 개수\n",
        "        self.batch_size = batch_size     # 배치 크기\n",
        "        self.w1 = None             # 은닉층의 가중치\n",
        "        self.b1 = None             # 은닉층의 절편\n",
        "        self.w2 = None             # 출력층의 가중치\n",
        "        self.b2 = None             # 출력층의 절편\n",
        "        self.a1 = None             # 은닉층의 활성화 출력\n",
        "        self.losses = []           # 훈련 손실\n",
        "        self.val_losses = []       # 검증 손실\n",
        "        self.lr = learning_rate    # 학습률\n",
        "        self.l1 = l1               # L1 손실 하이퍼파라미터\n",
        "        self.l2 = l2               # L2 손실 하이퍼파라미터\n",
        "\n",
        "    def forpass(self, x):\n",
        "        z1 = np.dot(x, self.w1) + self.b1        # 첫 번째 층의 선형 식을 계산합니다\n",
        "        self.a1 = self.sigmoid(z1)               # 활성화 함수를 적용합니다\n",
        "        z2 = np.dot(self.a1, self.w2) + self.b2  # 두 번째 층의 선형 식을 계산합니다.\n",
        "        return z2\n",
        "\n",
        "    def backprop(self, x, err):\n",
        "        m = len(x)       # 샘플 개수\n",
        "        # 출력층의 가중치와 절편에 대한 그래디언트를 계산합니다.\n",
        "        w2_grad = np.dot(self.a1.T, err) / m\n",
        "        b2_grad = np.sum(err) / m\n",
        "        # 시그모이드 함수까지 그래디언트를 계산합니다.\n",
        "        err_to_hidden = np.dot(err, self.w2.T) * self.a1 * (1 - self.a1)\n",
        "        # 은닉층의 가중치와 절편에 대한 그래디언트를 계산합니다.\n",
        "        w1_grad = np.dot(x.T, err_to_hidden) / m\n",
        "        b1_grad = np.sum(err_to_hidden, axis=0) / m\n",
        "        return w1_grad, b1_grad, w2_grad, b2_grad\n",
        "\n",
        "# 소프트맥스 함수 구현\n",
        "    \n",
        "    def sigmoid(self, z):\n",
        "        z = np.clip(z, -100, None)            # 안전한 np.exp() 계산을 위해\n",
        "        a = 1 / (1 + np.exp(-z))              # 시그모이드 계산\n",
        "        return a\n",
        "    \n",
        "    def softmax(self, z):\n",
        "        # 소프트맥스 함수\n",
        "        z = np.clip(z, -100, None)            # 안전한 np.exp() 계산을 위해\n",
        "        exp_z = np.exp(z)\n",
        "        return exp_z / np.sum(exp_z, axis=1).reshape(-1, 1)\n",
        " \n",
        " #  init_weight 메서드 수정\n",
        "    def init_weights(self, n_features, n_classes):\n",
        "        self.w1 = np.random.normal(0, 1, (n_features, self.units))  # (특성 개수, 은닉층의 크기)\n",
        "        self.b1 = np.zeros(self.units)                        # 은닉층의 크기\n",
        "        self.w2 = np.random.normal(0, 1, (self.units, n_classes))   # (은닉층의 크기, 클래스 개수)\n",
        "        self.b2 = np.zeros(n_classes)\n",
        "        \n",
        "    def fit(self, x, y, epochs=100, x_val=None, y_val=None):\n",
        "        np.random.seed(42)\n",
        "        self.init_weights(x.shape[1], y.shape[1])    # 은닉층과 출력층의 가중치를 초기화합니다.\n",
        "        # epochs만큼 반복합니다.\n",
        "        for i in range(epochs):\n",
        "            loss = 0\n",
        "            print('.', end='')\n",
        "            # 제너레이터 함수에서 반환한 미니배치를 순환합니다.\n",
        "            for x_batch, y_batch in self.gen_batch(x, y):\n",
        "                a = self.training(x_batch, y_batch)\n",
        "                # 안전한 로그 계산을 위해 클리핑합니다.\n",
        "                a = np.clip(a, 1e-10, 1-1e-10)\n",
        "                # 로그 손실과 규제 손실을 더하여 리스트에 추가합니다.\n",
        "                loss += np.sum(-y_batch*np.log(a))\n",
        "            self.losses.append((loss + self.reg_loss()) / len(x))\n",
        "            # 검증 세트에 대한 손실을 계산합니다.\n",
        "            self.update_val_loss(x_val, y_val)\n",
        "\n",
        "    # 미니배치 제너레이터 함수\n",
        "    def gen_batch(self, x, y):\n",
        "        length = len(x)\n",
        "        bins = length // self.batch_size # 미니배치 횟수\n",
        "        if length % self.batch_size:\n",
        "            bins += 1                    # 나누어 떨어지지 않을 때\n",
        "        indexes = np.random.permutation(np.arange(len(x))) # 인덱스를 섞습니다.\n",
        "        x = x[indexes]\n",
        "        y = y[indexes]\n",
        "        for i in range(bins):\n",
        "            start = self.batch_size * i\n",
        "            end = self.batch_size * (i + 1)\n",
        "            yield x[start:end], y[start:end]   # batch_size만큼 슬라이싱하여 반환합니다.\n",
        "            \n",
        "    def training(self, x, y):\n",
        "        m = len(x)                # 샘플 개수를 저장합니다.\n",
        "        z = self.forpass(x)       # 정방향 계산을 수행합니다.\n",
        "        a = self.softmax(z)       # 활성화 함수를 적용합니다.\n",
        "        err = -(y - a)            # 오차를 계산합니다.\n",
        "        # 오차를 역전파하여 그래디언트를 계산합니다.\n",
        "        w1_grad, b1_grad, w2_grad, b2_grad = self.backprop(x, err)\n",
        "        # 그래디언트에서 페널티 항의 미분 값을 뺍니다\n",
        "        w1_grad += (self.l1 * np.sign(self.w1) + self.l2 * self.w1) / m\n",
        "        w2_grad += (self.l1 * np.sign(self.w2) + self.l2 * self.w2) / m\n",
        "        # 은닉층의 가중치와 절편을 업데이트합니다.\n",
        "        self.w1 -= self.lr * w1_grad\n",
        "        self.b1 -= self.lr * b1_grad\n",
        "        # 출력층의 가중치와 절편을 업데이트합니다.\n",
        "        self.w2 -= self.lr * w2_grad\n",
        "        self.b2 -= self.lr * b2_grad\n",
        "        return a\n",
        "   \n",
        "    def predict(self, x):\n",
        "        z = self.forpass(x)          # 정방향 계산을 수행합니다.\n",
        "        return np.argmax(z, axis=1)  # 가장 큰 값의 인덱스를 반환합니다.\n",
        "    \n",
        "    def score(self, x, y):\n",
        "        # 예측과 타깃 열 벡터를 비교하여 True의 비율을 반환합니다.\n",
        "        return np.mean(self.predict(x) == np.argmax(y, axis=1))\n",
        "\n",
        "    def reg_loss(self):\n",
        "        # 은닉층과 출력층의 가중치에 규제를 적용합니다.\n",
        "        return self.l1 * (np.sum(np.abs(self.w1)) + np.sum(np.abs(self.w2))) + \\\n",
        "               self.l2 / 2 * (np.sum(self.w1**2) + np.sum(self.w2**2))\n",
        "\n",
        "    def update_val_loss(self, x_val, y_val):\n",
        "        z = self.forpass(x_val)            # 정방향 계산을 수행합니다.\n",
        "        a = self.softmax(z)                # 활성화 함수를 적용합니다.\n",
        "        a = np.clip(a, 1e-10, 1-1e-10)     # 출력 값을 클리핑합니다.\n",
        "        # 크로스 엔트로피 손실과 규제 손실을 더하여 리스트에 추가합니다.\n",
        "        val_loss = np.sum(-y_val*np.log(a))\n",
        "        self.val_losses.append((val_loss + self.reg_loss()) / len(y_val))"
      ],
      "execution_count": 3,
      "outputs": []
    },
    {
      "cell_type": "code",
      "metadata": {
        "id": "yGvPEbtg2nik"
      },
      "source": [
        "import tensorflow as tf"
      ],
      "execution_count": 4,
      "outputs": []
    },
    {
      "cell_type": "code",
      "metadata": {
        "id": "lKF2_Oju2nil",
        "colab": {
          "base_uri": "https://localhost:8080/",
          "height": 35
        },
        "outputId": "0c141f14-84dc-4c0b-f1c0-3629cba72504"
      },
      "source": [
        "tf.__version__"
      ],
      "execution_count": 5,
      "outputs": [
        {
          "output_type": "execute_result",
          "data": {
            "application/vnd.google.colaboratory.intrinsic+json": {
              "type": "string"
            },
            "text/plain": [
              "'2.6.0'"
            ]
          },
          "metadata": {},
          "execution_count": 5
        }
      ]
    },
    {
      "cell_type": "code",
      "metadata": {
        "id": "kj9KlaWJ2nin",
        "colab": {
          "base_uri": "https://localhost:8080/"
        },
        "outputId": "67d2dc0d-7772-43af-c8ee-9316a0dab712"
      },
      "source": [
        "(x_train_all, y_train_all), (x_test, y_test) = tf.keras.datasets.fashion_mnist.load_data()"
      ],
      "execution_count": 6,
      "outputs": [
        {
          "output_type": "stream",
          "name": "stdout",
          "text": [
            "Downloading data from https://storage.googleapis.com/tensorflow/tf-keras-datasets/train-labels-idx1-ubyte.gz\n",
            "32768/29515 [=================================] - 0s 0us/step\n",
            "40960/29515 [=========================================] - 0s 0us/step\n",
            "Downloading data from https://storage.googleapis.com/tensorflow/tf-keras-datasets/train-images-idx3-ubyte.gz\n",
            "26427392/26421880 [==============================] - 0s 0us/step\n",
            "26435584/26421880 [==============================] - 0s 0us/step\n",
            "Downloading data from https://storage.googleapis.com/tensorflow/tf-keras-datasets/t10k-labels-idx1-ubyte.gz\n",
            "16384/5148 [===============================================================================================] - 0s 0us/step\n",
            "Downloading data from https://storage.googleapis.com/tensorflow/tf-keras-datasets/t10k-images-idx3-ubyte.gz\n",
            "4423680/4422102 [==============================] - 0s 0us/step\n",
            "4431872/4422102 [==============================] - 0s 0us/step\n"
          ]
        }
      ]
    },
    {
      "cell_type": "code",
      "metadata": {
        "scrolled": true,
        "id": "tY8wVGtS2nin",
        "colab": {
          "base_uri": "https://localhost:8080/"
        },
        "outputId": "7afbebf7-4e61-4b1f-9990-c93801960f25"
      },
      "source": [
        "# 데이터 준비\n",
        "print(x_train_all.shape, y_train_all.shape)"
      ],
      "execution_count": 7,
      "outputs": [
        {
          "output_type": "stream",
          "name": "stdout",
          "text": [
            "(60000, 28, 28) (60000,)\n"
          ]
        }
      ]
    },
    {
      "cell_type": "code",
      "metadata": {
        "id": "RTQ8zaLQ2nin"
      },
      "source": [
        "import matplotlib.pyplot as plt"
      ],
      "execution_count": 8,
      "outputs": []
    },
    {
      "cell_type": "code",
      "metadata": {
        "id": "u38CFCP22nin",
        "colab": {
          "base_uri": "https://localhost:8080/",
          "height": 265
        },
        "outputId": "1c1e416f-f056-4959-85f3-51dcca404ac9"
      },
      "source": [
        "plt.imshow(x_train_all[0], cmap='gray')\n",
        "plt.show()"
      ],
      "execution_count": 9,
      "outputs": [
        {
          "output_type": "display_data",
          "data": {
            "image/png": "[encoded data removed]",
            "text/plain": [
              "<Figure size 432x288 with 1 Axes>"
            ]
          },
          "metadata": {
            "needs_background": "light"
          }
        }
      ]
    },
    {
      "cell_type": "code",
      "metadata": {
        "id": "Q_Sqy2pT2nio",
        "colab": {
          "base_uri": "https://localhost:8080/"
        },
        "outputId": "28e078e0-d728-44b9-fb2a-439cfcca8a62"
      },
      "source": [
        "# 타깃 확인\n",
        "\n",
        "print(y_train_all[:10])"
      ],
      "execution_count": 10,
      "outputs": [
        {
          "output_type": "stream",
          "name": "stdout",
          "text": [
            "[9 0 0 3 0 2 7 2 5 5]\n"
          ]
        }
      ]
    },
    {
      "cell_type": "code",
      "metadata": {
        "id": "KjFO73xY2nio"
      },
      "source": [
        "class_names = ['티셔츠/윗도리', '바지', '스웨터', '드레스', '코트', \n",
        "               '샌들', '셔츠', '스니커즈', '가방', '앵클부츠']"
      ],
      "execution_count": 11,
      "outputs": []
    },
    {
      "cell_type": "code",
      "metadata": {
        "id": "ncYT4j4R2nio",
        "colab": {
          "base_uri": "https://localhost:8080/"
        },
        "outputId": "06bf481a-5b39-4730-d2bb-e022201eef81"
      },
      "source": [
        "print(class_names[y_train_all[0]])"
      ],
      "execution_count": 12,
      "outputs": [
        {
          "output_type": "stream",
          "name": "stdout",
          "text": [
            "앵클부츠\n"
          ]
        }
      ]
    },
    {
      "cell_type": "code",
      "metadata": {
        "id": "zxKo0BdS2nip",
        "colab": {
          "base_uri": "https://localhost:8080/"
        },
        "outputId": "7cb4ca7f-99e6-4be8-80ba-7189f8705afe"
      },
      "source": [
        "np.bincount(y_train_all)"
      ],
      "execution_count": 13,
      "outputs": [
        {
          "output_type": "execute_result",
          "data": {
            "text/plain": [
              "array([6000, 6000, 6000, 6000, 6000, 6000, 6000, 6000, 6000, 6000])"
            ]
          },
          "metadata": {},
          "execution_count": 13
        }
      ]
    },
    {
      "cell_type": "code",
      "metadata": {
        "id": "ssVomiIc2nip"
      },
      "source": [
        "# 훈련 세트와 검증 세트 준비\n",
        "\n",
        "from sklearn.model_selection import train_test_split"
      ],
      "execution_count": 14,
      "outputs": []
    },
    {
      "cell_type": "code",
      "metadata": {
        "id": "gxlyqHTy2nip"
      },
      "source": [
        "x_train, x_val, y_train, y_val = train_test_split(x_train_all, y_train_all, stratify=y_train_all, test_size=0.2, random_state=42)"
      ],
      "execution_count": 15,
      "outputs": []
    },
    {
      "cell_type": "code",
      "metadata": {
        "id": "c9rwsDTo2nip",
        "colab": {
          "base_uri": "https://localhost:8080/"
        },
        "outputId": "3714f3e4-4f97-4638-e5e2-aecd2bb70367"
      },
      "source": [
        "np.bincount(y_train)"
      ],
      "execution_count": 16,
      "outputs": [
        {
          "output_type": "execute_result",
          "data": {
            "text/plain": [
              "array([4800, 4800, 4800, 4800, 4800, 4800, 4800, 4800, 4800, 4800])"
            ]
          },
          "metadata": {},
          "execution_count": 16
        }
      ]
    },
    {
      "cell_type": "code",
      "metadata": {
        "scrolled": true,
        "id": "0Iu9eg9j2nip",
        "colab": {
          "base_uri": "https://localhost:8080/"
        },
        "outputId": "11da9977-eb6b-4828-e207-82b40f86684c"
      },
      "source": [
        "np.bincount(y_val)"
      ],
      "execution_count": 17,
      "outputs": [
        {
          "output_type": "execute_result",
          "data": {
            "text/plain": [
              "array([1200, 1200, 1200, 1200, 1200, 1200, 1200, 1200, 1200, 1200])"
            ]
          },
          "metadata": {},
          "execution_count": 17
        }
      ]
    },
    {
      "cell_type": "code",
      "metadata": {
        "id": "gduvaGYw2nip"
      },
      "source": [
        "x_train = x_train / 255\n",
        "x_val = x_val / 255"
      ],
      "execution_count": 18,
      "outputs": []
    },
    {
      "cell_type": "code",
      "metadata": {
        "id": "qNgTv0372niq"
      },
      "source": [
        "# 훈련 세트와 검증 세트 차원 변경\n",
        "\n",
        "x_train = x_train.reshape(-1, 784)\n",
        "x_val = x_val.reshape(-1, 784)"
      ],
      "execution_count": 19,
      "outputs": []
    },
    {
      "cell_type": "code",
      "metadata": {
        "scrolled": true,
        "id": "mcshPA5u2niq",
        "colab": {
          "base_uri": "https://localhost:8080/"
        },
        "outputId": "0832472c-f2cc-4aad-84a6-4a40f236a6b2"
      },
      "source": [
        "print(x_train.shape, x_val.shape)"
      ],
      "execution_count": 20,
      "outputs": [
        {
          "output_type": "stream",
          "name": "stdout",
          "text": [
            "(48000, 784) (12000, 784)\n"
          ]
        }
      ]
    },
    {
      "cell_type": "code",
      "metadata": {
        "id": "3l_3P0_b2niq",
        "colab": {
          "base_uri": "https://localhost:8080/"
        },
        "outputId": "b7a2b7ce-8d33-4164-ef72-1fe491b51e59"
      },
      "source": [
        "from sklearn.preprocessing import LabelBinarizer\n",
        "lb = LabelBinarizer()\n",
        "lb.fit_transform([0, 1, 3, 1])"
      ],
      "execution_count": 21,
      "outputs": [
        {
          "output_type": "execute_result",
          "data": {
            "text/plain": [
              "array([[1, 0, 0],\n",
              "       [0, 1, 0],\n",
              "       [0, 0, 1],\n",
              "       [0, 1, 0]])"
            ]
          },
          "metadata": {},
          "execution_count": 21
        }
      ]
    },
    {
      "cell_type": "code",
      "metadata": {
        "scrolled": true,
        "id": "UgMyp-f32niq",
        "colab": {
          "base_uri": "https://localhost:8080/"
        },
        "outputId": "fccc4c46-be28-4a95-b395-b4a50871c373"
      },
      "source": [
        "tf.keras.utils.to_categorical([0, 1, 3])"
      ],
      "execution_count": 22,
      "outputs": [
        {
          "output_type": "execute_result",
          "data": {
            "text/plain": [
              "array([[1., 0., 0., 0.],\n",
              "       [0., 1., 0., 0.],\n",
              "       [0., 0., 0., 1.]], dtype=float32)"
            ]
          },
          "metadata": {},
          "execution_count": 22
        }
      ]
    },
    {
      "cell_type": "code",
      "metadata": {
        "id": "5osbZcji2niq"
      },
      "source": [
        "y_train_encoded = tf.keras.utils.to_categorical(y_train)\n",
        "y_val_encoded = tf.keras.utils.to_categorical(y_val)"
      ],
      "execution_count": 23,
      "outputs": []
    },
    {
      "cell_type": "code",
      "metadata": {
        "scrolled": true,
        "id": "i5yPvL-h2nir",
        "colab": {
          "base_uri": "https://localhost:8080/"
        },
        "outputId": "cd6d86de-7b54-4c66-c908-01ee21f7a35a"
      },
      "source": [
        "print(y_train_encoded.shape, y_val_encoded.shape)"
      ],
      "execution_count": 24,
      "outputs": [
        {
          "output_type": "stream",
          "name": "stdout",
          "text": [
            "(48000, 10) (12000, 10)\n"
          ]
        }
      ]
    },
    {
      "cell_type": "code",
      "metadata": {
        "id": "IgHQ7lb12nir",
        "colab": {
          "base_uri": "https://localhost:8080/"
        },
        "outputId": "888065f6-1585-4f7e-f1b4-4ac7aeac0ce0"
      },
      "source": [
        "print(y_train[0], y_train_encoded[0])"
      ],
      "execution_count": 25,
      "outputs": [
        {
          "output_type": "stream",
          "name": "stdout",
          "text": [
            "6 [0. 0. 0. 0. 0. 0. 1. 0. 0. 0.]\n"
          ]
        }
      ]
    },
    {
      "cell_type": "code",
      "metadata": {
        "id": "hv_0vXIV2nir",
        "colab": {
          "base_uri": "https://localhost:8080/"
        },
        "outputId": "c6472f6d-a9a5-4d54-9cad-8449c583a877"
      },
      "source": [
        "fc = MultiClassNetwork(units=100, batch_size=256)\n",
        "fc.fit(x_train, y_train_encoded, \n",
        "       x_val=x_val, y_val=y_val_encoded, epochs=40)"
      ],
      "execution_count": 26,
      "outputs": [
        {
          "output_type": "stream",
          "name": "stdout",
          "text": [
            "........................................"
          ]
        }
      ]
    },
    {
      "cell_type": "code",
      "metadata": {
        "scrolled": true,
        "id": "esQP6aSf2nir",
        "colab": {
          "base_uri": "https://localhost:8080/",
          "height": 279
        },
        "outputId": "b4a444da-8319-4cde-ee5c-3142d7bad0f3"
      },
      "source": [
        "plt.plot(fc.losses)\n",
        "plt.plot(fc.val_losses)\n",
        "plt.ylabel('loss')\n",
        "plt.xlabel('iteration')\n",
        "plt.legend(['train_loss', 'val_loss'])\n",
        "plt.show()"
      ],
      "execution_count": 27,
      "outputs": [
        {
          "output_type": "display_data",
          "data": {
            "image/png": "[encoded data removed]",
            "text/plain": [
              "<Figure size 432x288 with 1 Axes>"
            ]
          },
          "metadata": {
            "needs_background": "light"
          }
        }
      ]
    },
    {
      "cell_type": "code",
      "metadata": {
        "scrolled": false,
        "id": "NOzGo2pq2nir",
        "colab": {
          "base_uri": "https://localhost:8080/"
        },
        "outputId": "12eb1db7-4fd5-437e-dd20-eaf90599b6bf"
      },
      "source": [
        "fc.score(x_val, y_val_encoded)"
      ],
      "execution_count": 28,
      "outputs": [
        {
          "output_type": "execute_result",
          "data": {
            "text/plain": [
              "0.8150833333333334"
            ]
          },
          "metadata": {},
          "execution_count": 28
        }
      ]
    },
    {
      "cell_type": "code",
      "metadata": {
        "id": "gYZTz8tr2nir",
        "colab": {
          "base_uri": "https://localhost:8080/"
        },
        "outputId": "9c43d87b-45d2-4d42-e42a-079ca8931435"
      },
      "source": [
        "np.random.permutation(np.arange(12000)%10)"
      ],
      "execution_count": 29,
      "outputs": [
        {
          "output_type": "execute_result",
          "data": {
            "text/plain": [
              "array([4, 6, 3, ..., 0, 6, 6])"
            ]
          },
          "metadata": {},
          "execution_count": 29
        }
      ]
    },
    {
      "cell_type": "code",
      "metadata": {
        "scrolled": true,
        "id": "vBkLG5iq2nir",
        "colab": {
          "base_uri": "https://localhost:8080/"
        },
        "outputId": "005f9309-4a2f-49ac-b6a3-dc34c2c17b7d"
      },
      "source": [
        "np.sum(y_val == np.random.permutation(np.arange(12000)%10)) / 12000"
      ],
      "execution_count": 30,
      "outputs": [
        {
          "output_type": "execute_result",
          "data": {
            "text/plain": [
              "0.10325"
            ]
          },
          "metadata": {},
          "execution_count": 30
        }
      ]
    },
    {
      "cell_type": "markdown",
      "metadata": {
        "id": "d9YnWDuV2nis"
      },
      "source": [
        "## 07-2 텐서플로와 케라스를 소개합니다."
      ]
    },
    {
      "cell_type": "code",
      "metadata": {
        "id": "H2KtdO-J2nis"
      },
      "source": [
        "from tensorflow.keras import Sequential\n",
        "from tensorflow.keras.layers import Dense"
      ],
      "execution_count": 31,
      "outputs": []
    },
    {
      "cell_type": "code",
      "metadata": {
        "id": "GA7dLztS2nis"
      },
      "source": [
        "model = Sequential()\n",
        "model.add(Dense(100, activation='sigmoid', input_shape=(784,)))\n",
        "model.add(Dense(10, activation='softmax'))"
      ],
      "execution_count": 32,
      "outputs": []
    },
    {
      "cell_type": "code",
      "metadata": {
        "id": "_pJppZH62nis"
      },
      "source": [
        "model.compile(optimizer='sgd', loss='categorical_crossentropy',\n",
        "              metrics=['accuracy'])"
      ],
      "execution_count": 33,
      "outputs": []
    },
    {
      "cell_type": "code",
      "metadata": {
        "id": "_iSGRu7Q2nis",
        "colab": {
          "base_uri": "https://localhost:8080/"
        },
        "outputId": "dd983aa7-9a15-4699-b390-57d0b56a9848"
      },
      "source": [
        "history = model.fit(x_train, y_train_encoded, epochs=40, \n",
        "                    validation_data=(x_val, y_val_encoded))"
      ],
      "execution_count": 34,
      "outputs": [
        {
          "output_type": "stream",
          "name": "stdout",
          "text": [
            "Epoch 1/40\n",
            "1500/1500 [==============================] - 3s 2ms/step - loss: 1.3883 - accuracy: 0.6499 - val_loss: 0.9639 - val_accuracy: 0.7305\n",
            "Epoch 2/40\n",
            "1500/1500 [==============================] - 2s 1ms/step - loss: 0.8435 - accuracy: 0.7460 - val_loss: 0.7522 - val_accuracy: 0.7608\n",
            "Epoch 3/40\n",
            "1500/1500 [==============================] - 2s 1ms/step - loss: 0.7115 - accuracy: 0.7668 - val_loss: 0.6653 - val_accuracy: 0.7801\n",
            "Epoch 4/40\n",
            "1500/1500 [==============================] - 2s 1ms/step - loss: 0.6463 - accuracy: 0.7824 - val_loss: 0.6122 - val_accuracy: 0.7917\n",
            "Epoch 5/40\n",
            "1500/1500 [==============================] - 2s 1ms/step - loss: 0.6044 - accuracy: 0.7943 - val_loss: 0.5756 - val_accuracy: 0.8044\n",
            "Epoch 6/40\n",
            "1500/1500 [==============================] - 2s 1ms/step - loss: 0.5740 - accuracy: 0.8042 - val_loss: 0.5505 - val_accuracy: 0.8108\n",
            "Epoch 7/40\n",
            "1500/1500 [==============================] - 2s 1ms/step - loss: 0.5512 - accuracy: 0.8123 - val_loss: 0.5294 - val_accuracy: 0.8185\n",
            "Epoch 8/40\n",
            "1500/1500 [==============================] - 2s 1ms/step - loss: 0.5332 - accuracy: 0.8184 - val_loss: 0.5134 - val_accuracy: 0.8227\n",
            "Epoch 9/40\n",
            "1500/1500 [==============================] - 2s 1ms/step - loss: 0.5185 - accuracy: 0.8219 - val_loss: 0.5000 - val_accuracy: 0.8261\n",
            "Epoch 10/40\n",
            "1500/1500 [==============================] - 2s 1ms/step - loss: 0.5064 - accuracy: 0.8259 - val_loss: 0.4888 - val_accuracy: 0.8287\n",
            "Epoch 11/40\n",
            "1500/1500 [==============================] - 2s 1ms/step - loss: 0.4963 - accuracy: 0.8281 - val_loss: 0.4810 - val_accuracy: 0.8322\n",
            "Epoch 12/40\n",
            "1500/1500 [==============================] - 2s 1ms/step - loss: 0.4871 - accuracy: 0.8319 - val_loss: 0.4713 - val_accuracy: 0.8353\n",
            "Epoch 13/40\n",
            "1500/1500 [==============================] - 2s 1ms/step - loss: 0.4792 - accuracy: 0.8340 - val_loss: 0.4638 - val_accuracy: 0.8371\n",
            "Epoch 14/40\n",
            "1500/1500 [==============================] - 2s 1ms/step - loss: 0.4725 - accuracy: 0.8365 - val_loss: 0.4589 - val_accuracy: 0.8385\n",
            "Epoch 15/40\n",
            "1500/1500 [==============================] - 2s 1ms/step - loss: 0.4661 - accuracy: 0.8373 - val_loss: 0.4518 - val_accuracy: 0.8419\n",
            "Epoch 16/40\n",
            "1500/1500 [==============================] - 2s 1ms/step - loss: 0.4605 - accuracy: 0.8397 - val_loss: 0.4480 - val_accuracy: 0.8435\n",
            "Epoch 17/40\n",
            "1500/1500 [==============================] - 2s 2ms/step - loss: 0.4552 - accuracy: 0.8412 - val_loss: 0.4427 - val_accuracy: 0.8446\n",
            "Epoch 18/40\n",
            "1500/1500 [==============================] - 2s 1ms/step - loss: 0.4503 - accuracy: 0.8432 - val_loss: 0.4405 - val_accuracy: 0.8443\n",
            "Epoch 19/40\n",
            "1500/1500 [==============================] - 2s 1ms/step - loss: 0.4457 - accuracy: 0.8444 - val_loss: 0.4362 - val_accuracy: 0.8443\n",
            "Epoch 20/40\n",
            "1500/1500 [==============================] - 2s 1ms/step - loss: 0.4415 - accuracy: 0.8452 - val_loss: 0.4303 - val_accuracy: 0.8474\n",
            "Epoch 21/40\n",
            "1500/1500 [==============================] - 2s 1ms/step - loss: 0.4377 - accuracy: 0.8465 - val_loss: 0.4268 - val_accuracy: 0.8498\n",
            "Epoch 22/40\n",
            "1500/1500 [==============================] - 2s 1ms/step - loss: 0.4340 - accuracy: 0.8477 - val_loss: 0.4244 - val_accuracy: 0.8507\n",
            "Epoch 23/40\n",
            "1500/1500 [==============================] - 2s 1ms/step - loss: 0.4306 - accuracy: 0.8496 - val_loss: 0.4208 - val_accuracy: 0.8513\n",
            "Epoch 24/40\n",
            "1500/1500 [==============================] - 2s 1ms/step - loss: 0.4271 - accuracy: 0.8499 - val_loss: 0.4206 - val_accuracy: 0.8514\n",
            "Epoch 25/40\n",
            "1500/1500 [==============================] - 2s 1ms/step - loss: 0.4241 - accuracy: 0.8511 - val_loss: 0.4145 - val_accuracy: 0.8549\n",
            "Epoch 26/40\n",
            "1500/1500 [==============================] - 2s 1ms/step - loss: 0.4210 - accuracy: 0.8525 - val_loss: 0.4114 - val_accuracy: 0.8554\n",
            "Epoch 27/40\n",
            "1500/1500 [==============================] - 2s 1ms/step - loss: 0.4183 - accuracy: 0.8537 - val_loss: 0.4093 - val_accuracy: 0.8550\n",
            "Epoch 28/40\n",
            "1500/1500 [==============================] - 2s 1ms/step - loss: 0.4152 - accuracy: 0.8534 - val_loss: 0.4065 - val_accuracy: 0.8574\n",
            "Epoch 29/40\n",
            "1500/1500 [==============================] - 2s 1ms/step - loss: 0.4127 - accuracy: 0.8549 - val_loss: 0.4064 - val_accuracy: 0.8553\n",
            "Epoch 30/40\n",
            "1500/1500 [==============================] - 2s 1ms/step - loss: 0.4102 - accuracy: 0.8555 - val_loss: 0.4027 - val_accuracy: 0.8594\n",
            "Epoch 31/40\n",
            "1500/1500 [==============================] - 2s 1ms/step - loss: 0.4076 - accuracy: 0.8571 - val_loss: 0.4004 - val_accuracy: 0.8591\n",
            "Epoch 32/40\n",
            "1500/1500 [==============================] - 2s 1ms/step - loss: 0.4051 - accuracy: 0.8569 - val_loss: 0.4011 - val_accuracy: 0.8575\n",
            "Epoch 33/40\n",
            "1500/1500 [==============================] - 2s 1ms/step - loss: 0.4030 - accuracy: 0.8577 - val_loss: 0.4014 - val_accuracy: 0.8556\n",
            "Epoch 34/40\n",
            "1500/1500 [==============================] - 2s 1ms/step - loss: 0.4009 - accuracy: 0.8590 - val_loss: 0.3962 - val_accuracy: 0.8596\n",
            "Epoch 35/40\n",
            "1500/1500 [==============================] - 2s 1ms/step - loss: 0.3987 - accuracy: 0.8597 - val_loss: 0.3945 - val_accuracy: 0.8621\n",
            "Epoch 36/40\n",
            "1500/1500 [==============================] - 2s 1ms/step - loss: 0.3966 - accuracy: 0.8596 - val_loss: 0.3915 - val_accuracy: 0.8618\n",
            "Epoch 37/40\n",
            "1500/1500 [==============================] - 2s 1ms/step - loss: 0.3946 - accuracy: 0.8609 - val_loss: 0.3908 - val_accuracy: 0.8618\n",
            "Epoch 38/40\n",
            "1500/1500 [==============================] - 2s 1ms/step - loss: 0.3927 - accuracy: 0.8609 - val_loss: 0.3884 - val_accuracy: 0.8633\n",
            "Epoch 39/40\n",
            "1500/1500 [==============================] - 2s 1ms/step - loss: 0.3909 - accuracy: 0.8616 - val_loss: 0.3867 - val_accuracy: 0.8640\n",
            "Epoch 40/40\n",
            "1500/1500 [==============================] - 2s 1ms/step - loss: 0.3890 - accuracy: 0.8624 - val_loss: 0.3865 - val_accuracy: 0.8658\n"
          ]
        }
      ]
    },
    {
      "cell_type": "code",
      "metadata": {
        "id": "9FXS_8Eo2nis",
        "colab": {
          "base_uri": "https://localhost:8080/"
        },
        "outputId": "5449d36f-9ce5-4904-ffab-085662eaf125"
      },
      "source": [
        "print(history.history.keys())"
      ],
      "execution_count": 35,
      "outputs": [
        {
          "output_type": "stream",
          "name": "stdout",
          "text": [
            "dict_keys(['loss', 'accuracy', 'val_loss', 'val_accuracy'])\n"
          ]
        }
      ]
    },
    {
      "cell_type": "code",
      "metadata": {
        "scrolled": true,
        "id": "XXdBzNv52nis",
        "colab": {
          "base_uri": "https://localhost:8080/",
          "height": 279
        },
        "outputId": "ab844343-a94c-4b69-db2b-072a4d002355"
      },
      "source": [
        "plt.plot(history.history['loss'])\n",
        "plt.plot(history.history['val_loss'])\n",
        "plt.ylabel('loss')\n",
        "plt.xlabel('epoch')\n",
        "plt.legend(['train_loss', 'val_loss'])\n",
        "plt.show()"
      ],
      "execution_count": 36,
      "outputs": [
        {
          "output_type": "display_data",
          "data": {
            "image/png": "[encoded data removed]",
            "text/plain": [
              "<Figure size 432x288 with 1 Axes>"
            ]
          },
          "metadata": {
            "needs_background": "light"
          }
        }
      ]
    },
    {
      "cell_type": "code",
      "metadata": {
        "scrolled": false,
        "id": "AyiRZ5p62nis",
        "colab": {
          "base_uri": "https://localhost:8080/",
          "height": 279
        },
        "outputId": "fbb1e279-ff24-4932-a50d-d69737d7f972"
      },
      "source": [
        "plt.plot(history.history['accuracy'])\n",
        "plt.plot(history.history['val_accuracy'])\n",
        "plt.ylabel('accuracy')\n",
        "plt.xlabel('epoch')\n",
        "plt.legend(['train_accuracy', 'val_accuracy'])\n",
        "plt.show()"
      ],
      "execution_count": 37,
      "outputs": [
        {
          "output_type": "display_data",
          "data": {
            "image/png": "[encoded data removed]",
            "text/plain": [
              "<Figure size 432x288 with 1 Axes>"
            ]
          },
          "metadata": {
            "needs_background": "light"
          }
        }
      ]
    },
    {
      "cell_type": "code",
      "metadata": {
        "id": "3Jd7jkXG2nit"
      },
      "source": [
        "loss, accuracy = model.evaluate(x_val, y_val_encoded, verbose=0)"
      ],
      "execution_count": 38,
      "outputs": []
    },
    {
      "cell_type": "code",
      "metadata": {
        "id": "vuFjsstv2nit",
        "colab": {
          "base_uri": "https://localhost:8080/"
        },
        "outputId": "c66729be-5524-45bd-8676-3254b573ccd9"
      },
      "source": [
        "print(accuracy)"
      ],
      "execution_count": 39,
      "outputs": [
        {
          "output_type": "stream",
          "name": "stdout",
          "text": [
            "0.8658333420753479\n"
          ]
        }
      ]
    },
    {
      "cell_type": "code",
      "metadata": {
        "id": "0ve0FTwA3Bhi"
      },
      "source": [
        ""
      ],
      "execution_count": 39,
      "outputs": []
    }
  ]
}