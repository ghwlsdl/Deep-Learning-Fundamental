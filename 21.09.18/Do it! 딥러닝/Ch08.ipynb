{
  "nbformat": 4,
  "nbformat_minor": 0,
  "metadata": {
    "colab": {
      "name": "Ch08.ipynb",
      "provenance": [],
      "collapsed_sections": []
    },
    "kernelspec": {
      "name": "python3",
      "display_name": "Python 3"
    },
    "language_info": {
      "name": "python"
    },
    "accelerator": "GPU"
  },
  "cells": [
    {
      "cell_type": "markdown",
      "metadata": {
        "id": "uXU4z23n6OWZ"
      },
      "source": [
        "## 08-1 합성곱을 알아 봅니다."
      ]
    },
    {
      "cell_type": "code",
      "metadata": {
        "id": "SxuXuS4C6OWa"
      },
      "source": [
        "import numpy as np"
      ],
      "execution_count": 1,
      "outputs": []
    },
    {
      "cell_type": "code",
      "metadata": {
        "id": "l5JvrUlR6OWa"
      },
      "source": [
        "w = np.array([2, 1, 5, 3])\n",
        "x = np.array([2, 8, 3, 7, 1, 2, 0, 4, 5])"
      ],
      "execution_count": 2,
      "outputs": []
    },
    {
      "cell_type": "code",
      "metadata": {
        "id": "3S3DqKZk6OWa",
        "colab": {
          "base_uri": "https://localhost:8080/"
        },
        "outputId": "e80aae5a-cff5-4b4e-9685-89a599d7bf23"
      },
      "source": [
        "w_r = np.flip(w)\n",
        "print(w_r)"
      ],
      "execution_count": 3,
      "outputs": [
        {
          "output_type": "stream",
          "name": "stdout",
          "text": [
            "[3 5 1 2]\n"
          ]
        }
      ]
    },
    {
      "cell_type": "code",
      "metadata": {
        "id": "-5ufK6JN6OWc",
        "colab": {
          "base_uri": "https://localhost:8080/"
        },
        "outputId": "23094eb6-a88a-4378-cfd2-81906ddb152b"
      },
      "source": [
        "w[0:4:2]"
      ],
      "execution_count": 4,
      "outputs": [
        {
          "output_type": "execute_result",
          "data": {
            "text/plain": [
              "array([2, 5])"
            ]
          },
          "metadata": {},
          "execution_count": 4
        }
      ]
    },
    {
      "cell_type": "code",
      "metadata": {
        "id": "FPJGNzJA6OWc",
        "colab": {
          "base_uri": "https://localhost:8080/"
        },
        "outputId": "2647d389-8ae9-4677-b308-b85f09de0e9a"
      },
      "source": [
        "for i in range(6):\n",
        "    print(np.dot(x[i:i+4], w_r))"
      ],
      "execution_count": 5,
      "outputs": [
        {
          "output_type": "stream",
          "name": "stdout",
          "text": [
            "63\n",
            "48\n",
            "49\n",
            "28\n",
            "21\n",
            "20\n"
          ]
        }
      ]
    },
    {
      "cell_type": "code",
      "metadata": {
        "id": "0dtoaSKD6OWd"
      },
      "source": [
        "from scipy.signal import convolve"
      ],
      "execution_count": 6,
      "outputs": []
    },
    {
      "cell_type": "code",
      "metadata": {
        "id": "Hi3hkb-r6OWd",
        "colab": {
          "base_uri": "https://localhost:8080/"
        },
        "outputId": "7394fce9-b3de-449f-956f-822c105930a9"
      },
      "source": [
        "convolve(x, w, mode='valid')"
      ],
      "execution_count": 7,
      "outputs": [
        {
          "output_type": "execute_result",
          "data": {
            "text/plain": [
              "array([63, 48, 49, 28, 21, 20])"
            ]
          },
          "metadata": {},
          "execution_count": 7
        }
      ]
    },
    {
      "cell_type": "code",
      "metadata": {
        "id": "GS0cPXHK6OWd"
      },
      "source": [
        "from scipy.signal import correlate"
      ],
      "execution_count": 8,
      "outputs": []
    },
    {
      "cell_type": "code",
      "metadata": {
        "id": "FcRjii8J6OWe",
        "colab": {
          "base_uri": "https://localhost:8080/"
        },
        "outputId": "0be020b9-3a60-420a-8711-110bf3112edf"
      },
      "source": [
        "correlate(x, w, mode='valid')"
      ],
      "execution_count": 9,
      "outputs": [
        {
          "output_type": "execute_result",
          "data": {
            "text/plain": [
              "array([48, 57, 24, 25, 16, 39])"
            ]
          },
          "metadata": {},
          "execution_count": 9
        }
      ]
    },
    {
      "cell_type": "code",
      "metadata": {
        "id": "7lXlSMxc6OWe",
        "colab": {
          "base_uri": "https://localhost:8080/"
        },
        "outputId": "9fc623d8-64df-435f-9636-98802ef37a6c"
      },
      "source": [
        "correlate(x, w, mode='full')"
      ],
      "execution_count": 10,
      "outputs": [
        {
          "output_type": "execute_result",
          "data": {
            "text/plain": [
              "array([ 6, 34, 51, 48, 57, 24, 25, 16, 39, 29, 13, 10])"
            ]
          },
          "metadata": {},
          "execution_count": 10
        }
      ]
    },
    {
      "cell_type": "code",
      "metadata": {
        "id": "KYMVUooo6OWe",
        "colab": {
          "base_uri": "https://localhost:8080/"
        },
        "outputId": "633294b1-75e8-48e3-fb48-c35049cbf6cf"
      },
      "source": [
        "correlate(x, w, mode='same')"
      ],
      "execution_count": 11,
      "outputs": [
        {
          "output_type": "execute_result",
          "data": {
            "text/plain": [
              "array([34, 51, 48, 57, 24, 25, 16, 39, 29])"
            ]
          },
          "metadata": {},
          "execution_count": 11
        }
      ]
    },
    {
      "cell_type": "code",
      "metadata": {
        "id": "j4b1Pkps6OWf"
      },
      "source": [
        "x = np.array([[1, 2, 3],\n",
        "              [4, 5, 6],\n",
        "              [7, 8, 9]])\n",
        "w = np.array([[2, 0], [0, 0]])"
      ],
      "execution_count": 12,
      "outputs": []
    },
    {
      "cell_type": "code",
      "metadata": {
        "scrolled": true,
        "id": "quumEEy96OWf",
        "colab": {
          "base_uri": "https://localhost:8080/"
        },
        "outputId": "9fa4ead0-be39-4a14-95d3-388ce85709f2"
      },
      "source": [
        "from scipy.signal import correlate2d\n",
        "\n",
        "correlate2d(x, w, mode='valid')"
      ],
      "execution_count": 13,
      "outputs": [
        {
          "output_type": "execute_result",
          "data": {
            "text/plain": [
              "array([[ 2,  4],\n",
              "       [ 8, 10]])"
            ]
          },
          "metadata": {},
          "execution_count": 13
        }
      ]
    },
    {
      "cell_type": "code",
      "metadata": {
        "id": "s7wIR2C_6OWf",
        "colab": {
          "base_uri": "https://localhost:8080/"
        },
        "outputId": "60f90d73-a9c2-4fef-9e62-57a44ad280f1"
      },
      "source": [
        "np.flip(w)"
      ],
      "execution_count": 14,
      "outputs": [
        {
          "output_type": "execute_result",
          "data": {
            "text/plain": [
              "array([[0, 0],\n",
              "       [0, 2]])"
            ]
          },
          "metadata": {},
          "execution_count": 14
        }
      ]
    },
    {
      "cell_type": "code",
      "metadata": {
        "id": "sqZeuJmo6OWf",
        "colab": {
          "base_uri": "https://localhost:8080/"
        },
        "outputId": "9de1688a-4527-4418-f815-f983defc6da4"
      },
      "source": [
        "from scipy.signal import convolve2d\n",
        "\n",
        "convolve2d(x, w, mode='valid')"
      ],
      "execution_count": 15,
      "outputs": [
        {
          "output_type": "execute_result",
          "data": {
            "text/plain": [
              "array([[10, 12],\n",
              "       [16, 18]])"
            ]
          },
          "metadata": {},
          "execution_count": 15
        }
      ]
    },
    {
      "cell_type": "code",
      "metadata": {
        "id": "yFHOUskT6OWg",
        "colab": {
          "base_uri": "https://localhost:8080/"
        },
        "outputId": "4def2ba1-3a4e-47f2-b5af-0f831bf4e20a"
      },
      "source": [
        "correlate2d(x, w, mode='same')"
      ],
      "execution_count": 16,
      "outputs": [
        {
          "output_type": "execute_result",
          "data": {
            "text/plain": [
              "array([[ 2,  4,  6],\n",
              "       [ 8, 10, 12],\n",
              "       [14, 16, 18]])"
            ]
          },
          "metadata": {},
          "execution_count": 16
        }
      ]
    },
    {
      "cell_type": "code",
      "metadata": {
        "id": "MOHWYzi96OWg"
      },
      "source": [
        "import tensorflow as tf"
      ],
      "execution_count": 17,
      "outputs": []
    },
    {
      "cell_type": "code",
      "metadata": {
        "id": "6jihrhpM6OWg"
      },
      "source": [
        "x_4d = x.astype(np.float).reshape(1, 3, 3, 1)\n",
        "w_4d = w.reshape(2, 2, 1, 1)"
      ],
      "execution_count": 18,
      "outputs": []
    },
    {
      "cell_type": "code",
      "metadata": {
        "id": "KNSrHrd36OWg",
        "colab": {
          "base_uri": "https://localhost:8080/"
        },
        "outputId": "5b4434f0-a82f-4c16-aea9-e5ab428d3dcc"
      },
      "source": [
        "c_out = tf.nn.conv2d(x_4d, w_4d, strides=1, padding='SAME')\n",
        "c_out.numpy().reshape(3, 3)"
      ],
      "execution_count": 19,
      "outputs": [
        {
          "output_type": "execute_result",
          "data": {
            "text/plain": [
              "array([[ 2.,  4.,  6.],\n",
              "       [ 8., 10., 12.],\n",
              "       [14., 16., 18.]])"
            ]
          },
          "metadata": {},
          "execution_count": 19
        }
      ]
    },
    {
      "cell_type": "markdown",
      "metadata": {
        "id": "l95yQlSN6OWg"
      },
      "source": [
        "## 08-2 풀링에 대해서 알아 봅니다"
      ]
    },
    {
      "cell_type": "code",
      "metadata": {
        "id": "TUIfxqsH6OWh"
      },
      "source": [
        "x = np.array([[1, 2, 3, 4],\n",
        "              [5, 6, 7, 8],\n",
        "              [9, 10, 11, 12],\n",
        "              [13, 14, 15, 16]])\n",
        "x = x.reshape(1, 4, 4, 1)"
      ],
      "execution_count": 20,
      "outputs": []
    },
    {
      "cell_type": "code",
      "metadata": {
        "id": "g37DZxjY6OWi",
        "colab": {
          "base_uri": "https://localhost:8080/"
        },
        "outputId": "72ca2011-5e53-4d4b-f698-4deb41379b47"
      },
      "source": [
        "p_out = tf.nn.max_pool2d(x, ksize=2, strides=2, padding='VALID')\n",
        "p_out.numpy().reshape(2, 2)"
      ],
      "execution_count": 21,
      "outputs": [
        {
          "output_type": "execute_result",
          "data": {
            "text/plain": [
              "array([[ 6.,  8.],\n",
              "       [14., 16.]], dtype=float32)"
            ]
          },
          "metadata": {},
          "execution_count": 21
        }
      ]
    },
    {
      "cell_type": "markdown",
      "metadata": {
        "id": "9KFwcpA96OWi"
      },
      "source": [
        "## 08-3 합성곱 신경망의 구조를 알아 봅니다"
      ]
    },
    {
      "cell_type": "code",
      "metadata": {
        "id": "UBJxIWTm6OWi"
      },
      "source": [
        "def relu(x):\n",
        "    return np.maximum(x, 0)"
      ],
      "execution_count": 22,
      "outputs": []
    },
    {
      "cell_type": "code",
      "metadata": {
        "id": "kJ66NUKm6OWi",
        "colab": {
          "base_uri": "https://localhost:8080/"
        },
        "outputId": "351f43e7-34a3-45d4-bf21-c277c0021067"
      },
      "source": [
        "x = np.array([-1, 2, -3, 4, -5])\n",
        "\n",
        "relu(x)"
      ],
      "execution_count": 23,
      "outputs": [
        {
          "output_type": "execute_result",
          "data": {
            "text/plain": [
              "array([0, 2, 0, 4, 0])"
            ]
          },
          "metadata": {},
          "execution_count": 23
        }
      ]
    },
    {
      "cell_type": "code",
      "metadata": {
        "id": "r1QDahKf6OWi",
        "colab": {
          "base_uri": "https://localhost:8080/"
        },
        "outputId": "bbfa13dd-f5f4-4c3b-94fb-8c87520380c7"
      },
      "source": [
        "r_out = tf.nn.relu(x)\n",
        "r_out.numpy()"
      ],
      "execution_count": 24,
      "outputs": [
        {
          "output_type": "execute_result",
          "data": {
            "text/plain": [
              "array([0, 2, 0, 4, 0])"
            ]
          },
          "metadata": {},
          "execution_count": 24
        }
      ]
    },
    {
      "cell_type": "markdown",
      "metadata": {
        "id": "l1VeCI4p6OWi"
      },
      "source": [
        "## 08-4 합성곱 신경망을 만듭니다."
      ]
    },
    {
      "cell_type": "code",
      "metadata": {
        "id": "UEXzRXG16OWi"
      },
      "source": [
        "import tensorflow as tf\n",
        "\n",
        "class ConvolutionNetwork:\n",
        "    \n",
        "    def __init__(self, n_kernels=10, units=10, batch_size=32, learning_rate=0.1):\n",
        "        self.n_kernels = n_kernels  # 합성곱의 커널 개수\n",
        "        self.kernel_size = 3        # 커널 크기\n",
        "        self.optimizer = None       # 옵티마이저\n",
        "        self.conv_w = None          # 합성곱 층의 가중치\n",
        "        self.conv_b = None          # 합성곱 층의 절편\n",
        "        self.units = units          # 은닉층의 뉴런 개수\n",
        "        self.batch_size = batch_size  # 배치 크기\n",
        "        self.w1 = None              # 은닉층의 가중치\n",
        "        self.b1 = None              # 은닉층의 절편\n",
        "        self.w2 = None              # 출력층의 가중치\n",
        "        self.b2 = None              # 출력층의 절편\n",
        "        self.a1 = None              # 은닉층의 활성화 출력\n",
        "        self.losses = []            # 훈련 손실\n",
        "        self.val_losses = []        # 검증 손실\n",
        "        self.lr = learning_rate     # 학습률\n",
        "\n",
        "    def forpass(self, x):\n",
        "        # 3x3 합성곱 연산을 수행합니다.\n",
        "        c_out = tf.nn.conv2d(x, self.conv_w, strides=1, padding='SAME') + self.conv_b\n",
        "        # 렐루 활성화 함수를 적용합니다.\n",
        "        r_out = tf.nn.relu(c_out)\n",
        "        # 2x2 최대 풀링을 적용합니다.\n",
        "        p_out = tf.nn.max_pool2d(r_out, ksize=2, strides=2, padding='VALID')\n",
        "        # 첫 번째 배치 차원을 제외하고 출력을 일렬로 펼칩니다.\n",
        "        f_out = tf.reshape(p_out, [x.shape[0], -1])\n",
        "        z1 = tf.matmul(f_out, self.w1) + self.b1     # 첫 번째 층의 선형 식을 계산합니다\n",
        "        a1 = tf.nn.relu(z1)                          # 활성화 함수를 적용합니다\n",
        "        z2 = tf.matmul(a1, self.w2) + self.b2        # 두 번째 층의 선형 식을 계산합니다.\n",
        "        return z2\n",
        "    \n",
        "    def init_weights(self, input_shape, n_classes):\n",
        "        g = tf.initializers.glorot_uniform()\n",
        "        self.conv_w = tf.Variable(g((3, 3, 1, self.n_kernels)))\n",
        "        self.conv_b = tf.Variable(np.zeros(self.n_kernels), dtype=float)\n",
        "        n_features = 14 * 14 * self.n_kernels\n",
        "        self.w1 = tf.Variable(g((n_features, self.units)))          # (특성 개수, 은닉층의 크기)\n",
        "        self.b1 = tf.Variable(np.zeros(self.units), dtype=float)    # 은닉층의 크기\n",
        "        self.w2 = tf.Variable(g((self.units, n_classes)))           # (은닉층의 크기, 클래스 개수)\n",
        "        self.b2 = tf.Variable(np.zeros(n_classes), dtype=float)     # 클래스 개수\n",
        "        \n",
        "    def fit(self, x, y, epochs=100, x_val=None, y_val=None):\n",
        "        self.init_weights(x.shape, y.shape[1])    # 은닉층과 출력층의 가중치를 초기화합니다.\n",
        "        self.optimizer = tf.optimizers.SGD(learning_rate=self.lr)\n",
        "        # epochs만큼 반복합니다.\n",
        "        for i in range(epochs):\n",
        "            print('에포크', i, end=' ')\n",
        "            # 제너레이터 함수에서 반환한 미니배치를 순환합니다.\n",
        "            batch_losses = []\n",
        "            for x_batch, y_batch in self.gen_batch(x, y):\n",
        "                print('.', end='')\n",
        "                self.training(x_batch, y_batch)\n",
        "                # 배치 손실을 기록합니다.\n",
        "                batch_losses.append(self.get_loss(x_batch, y_batch))\n",
        "            print()\n",
        "            # 배치 손실 평균내어 훈련 손실 값으로 저장합니다.\n",
        "            self.losses.append(np.mean(batch_losses))\n",
        "            # 검증 세트에 대한 손실을 계산합니다.\n",
        "            self.val_losses.append(self.get_loss(x_val, y_val))\n",
        "\n",
        "    # 미니배치 제너레이터 함수\n",
        "    def gen_batch(self, x, y):\n",
        "        bins = len(x) // self.batch_size                   # 미니배치 횟수\n",
        "        indexes = np.random.permutation(np.arange(len(x))) # 인덱스를 섞습니다.\n",
        "        x = x[indexes]\n",
        "        y = y[indexes]\n",
        "        for i in range(bins):\n",
        "            start = self.batch_size * i\n",
        "            end = self.batch_size * (i + 1)\n",
        "            yield x[start:end], y[start:end]   # batch_size만큼 슬라이싱하여 반환합니다.\n",
        "            \n",
        "    def training(self, x, y):\n",
        "        m = len(x)                    # 샘플 개수를 저장합니다.\n",
        "        with tf.GradientTape() as tape:\n",
        "            z = self.forpass(x)       # 정방향 계산을 수행합니다.\n",
        "            # 손실을 계산합니다.\n",
        "            loss = tf.nn.softmax_cross_entropy_with_logits(y, z)\n",
        "            loss = tf.reduce_mean(loss)\n",
        "\n",
        "        weights_list = [self.conv_w, self.conv_b,\n",
        "                        self.w1, self.b1, self.w2, self.b2]\n",
        "        # 가중치에 대한 그래디언트를 계산합니다.\n",
        "        grads = tape.gradient(loss, weights_list)\n",
        "        # 가중치를 업데이트합니다.\n",
        "        self.optimizer.apply_gradients(zip(grads, weights_list))\n",
        "   \n",
        "    def predict(self, x):\n",
        "        z = self.forpass(x)                 # 정방향 계산을 수행합니다.\n",
        "        return np.argmax(z.numpy(), axis=1) # 가장 큰 값의 인덱스를 반환합니다.\n",
        "    \n",
        "    def score(self, x, y):\n",
        "        # 예측과 타깃 열 벡터를 비교하여 True의 비율을 반환합니다.\n",
        "        return np.mean(self.predict(x) == np.argmax(y, axis=1))\n",
        "\n",
        "    def get_loss(self, x, y):\n",
        "        z = self.forpass(x)                 # 정방향 계산을 수행합니다.\n",
        "        # 손실을 계산하여 저장합니다.\n",
        "        loss = tf.reduce_mean(tf.nn.softmax_cross_entropy_with_logits(y, z))\n",
        "        return loss.numpy()"
      ],
      "execution_count": 25,
      "outputs": []
    },
    {
      "cell_type": "code",
      "metadata": {
        "id": "RTMnsk0u6OWk",
        "colab": {
          "base_uri": "https://localhost:8080/"
        },
        "outputId": "14c3b123-9205-404a-efb2-05e1759da16f"
      },
      "source": [
        "x = tf.Variable(np.array([1.0, 2.0, 3.0]))\n",
        "with tf.GradientTape() as tape:\n",
        "    y = x ** 3 + 2 * x + 5\n",
        "\n",
        "# 그래디언트를 계산합니\n",
        "print(tape.gradient(y, x))"
      ],
      "execution_count": 26,
      "outputs": [
        {
          "output_type": "stream",
          "name": "stdout",
          "text": [
            "tf.Tensor([ 5. 14. 29.], shape=(3,), dtype=float64)\n"
          ]
        }
      ]
    },
    {
      "cell_type": "code",
      "metadata": {
        "id": "Q0f9GaG06OWl",
        "colab": {
          "base_uri": "https://localhost:8080/"
        },
        "outputId": "55e824d4-6773-4554-b441-0e4088e31ab4"
      },
      "source": [
        "x = tf.Variable(np.array([1.0, 2.0, 3.0]))\n",
        "with tf.GradientTape() as tape:\n",
        "    y = tf.nn.softmax(x)\n",
        "\n",
        "# 그래디언트를 계산합니다.\n",
        "print(tape.gradient(y, x))"
      ],
      "execution_count": 27,
      "outputs": [
        {
          "output_type": "stream",
          "name": "stdout",
          "text": [
            "tf.Tensor([1.99908031e-17 5.43406367e-17 1.47713165e-16], shape=(3,), dtype=float64)\n"
          ]
        }
      ]
    },
    {
      "cell_type": "code",
      "metadata": {
        "id": "lnSghQlb6OWl",
        "colab": {
          "base_uri": "https://localhost:8080/"
        },
        "outputId": "1eabcfa5-e36c-44b4-803a-901462093d79"
      },
      "source": [
        "(x_train_all, y_train_all), (x_test, y_test) = tf.keras.datasets.fashion_mnist.load_data()"
      ],
      "execution_count": 28,
      "outputs": [
        {
          "output_type": "stream",
          "name": "stdout",
          "text": [
            "Downloading data from https://storage.googleapis.com/tensorflow/tf-keras-datasets/train-labels-idx1-ubyte.gz\n",
            "32768/29515 [=================================] - 0s 0us/step\n",
            "40960/29515 [=========================================] - 0s 0us/step\n",
            "Downloading data from https://storage.googleapis.com/tensorflow/tf-keras-datasets/train-images-idx3-ubyte.gz\n",
            "26427392/26421880 [==============================] - 0s 0us/step\n",
            "26435584/26421880 [==============================] - 0s 0us/step\n",
            "Downloading data from https://storage.googleapis.com/tensorflow/tf-keras-datasets/t10k-labels-idx1-ubyte.gz\n",
            "16384/5148 [===============================================================================================] - 0s 0us/step\n",
            "Downloading data from https://storage.googleapis.com/tensorflow/tf-keras-datasets/t10k-images-idx3-ubyte.gz\n",
            "4423680/4422102 [==============================] - 0s 0us/step\n",
            "4431872/4422102 [==============================] - 0s 0us/step\n"
          ]
        }
      ]
    },
    {
      "cell_type": "code",
      "metadata": {
        "id": "7qJX9yoi6OWl"
      },
      "source": [
        "from sklearn.model_selection import train_test_split\n",
        "x_train, x_val, y_train, y_val = train_test_split(x_train_all, y_train_all, stratify=y_train_all, test_size=0.2, random_state=42)"
      ],
      "execution_count": 30,
      "outputs": []
    },
    {
      "cell_type": "code",
      "metadata": {
        "id": "nCjvtqGL6OWl"
      },
      "source": [
        "y_train_encoded = tf.keras.utils.to_categorical(y_train)\n",
        "y_val_encoded = tf.keras.utils.to_categorical(y_val)"
      ],
      "execution_count": 31,
      "outputs": []
    },
    {
      "cell_type": "code",
      "metadata": {
        "id": "czr-vszP6OWm"
      },
      "source": [
        "x_train = x_train.reshape(-1, 28, 28, 1)\n",
        "x_val = x_val.reshape(-1, 28, 28, 1)"
      ],
      "execution_count": 32,
      "outputs": []
    },
    {
      "cell_type": "code",
      "metadata": {
        "id": "7sQbM5h_6OWm",
        "colab": {
          "base_uri": "https://localhost:8080/"
        },
        "outputId": "a7099129-596a-4897-9289-e574b9391775"
      },
      "source": [
        "x_train.shape"
      ],
      "execution_count": 33,
      "outputs": [
        {
          "output_type": "execute_result",
          "data": {
            "text/plain": [
              "(48000, 28, 28, 1)"
            ]
          },
          "metadata": {},
          "execution_count": 33
        }
      ]
    },
    {
      "cell_type": "code",
      "metadata": {
        "id": "9c46kML66OWm"
      },
      "source": [
        "x_train = x_train / 255\n",
        "x_val = x_val / 255"
      ],
      "execution_count": 34,
      "outputs": []
    },
    {
      "cell_type": "code",
      "metadata": {
        "id": "izYt1eF-6OWm",
        "colab": {
          "base_uri": "https://localhost:8080/"
        },
        "outputId": "f62eb836-3d45-4c45-ac50-87fae2c8e67d"
      },
      "source": [
        "cn = ConvolutionNetwork(n_kernels=10, units=100, batch_size=128, learning_rate=0.01)\n",
        "cn.fit(x_train, y_train_encoded, \n",
        "       x_val=x_val, y_val=y_val_encoded, epochs=20)"
      ],
      "execution_count": 35,
      "outputs": [
        {
          "output_type": "stream",
          "name": "stdout",
          "text": [
            "에포크 0 .......................................................................................................................................................................................................................................................................................................................................................................................\n",
            "에포크 1 .......................................................................................................................................................................................................................................................................................................................................................................................\n",
            "에포크 2 .......................................................................................................................................................................................................................................................................................................................................................................................\n",
            "에포크 3 .......................................................................................................................................................................................................................................................................................................................................................................................\n",
            "에포크 4 .......................................................................................................................................................................................................................................................................................................................................................................................\n",
            "에포크 5 .......................................................................................................................................................................................................................................................................................................................................................................................\n",
            "에포크 6 .......................................................................................................................................................................................................................................................................................................................................................................................\n",
            "에포크 7 .......................................................................................................................................................................................................................................................................................................................................................................................\n",
            "에포크 8 .......................................................................................................................................................................................................................................................................................................................................................................................\n",
            "에포크 9 .......................................................................................................................................................................................................................................................................................................................................................................................\n",
            "에포크 10 .......................................................................................................................................................................................................................................................................................................................................................................................\n",
            "에포크 11 .......................................................................................................................................................................................................................................................................................................................................................................................\n",
            "에포크 12 .......................................................................................................................................................................................................................................................................................................................................................................................\n",
            "에포크 13 .......................................................................................................................................................................................................................................................................................................................................................................................\n",
            "에포크 14 .......................................................................................................................................................................................................................................................................................................................................................................................\n",
            "에포크 15 .......................................................................................................................................................................................................................................................................................................................................................................................\n",
            "에포크 16 .......................................................................................................................................................................................................................................................................................................................................................................................\n",
            "에포크 17 .......................................................................................................................................................................................................................................................................................................................................................................................\n",
            "에포크 18 .......................................................................................................................................................................................................................................................................................................................................................................................\n",
            "에포크 19 .......................................................................................................................................................................................................................................................................................................................................................................................\n"
          ]
        }
      ]
    },
    {
      "cell_type": "code",
      "metadata": {
        "id": "5Os623qd6OWm"
      },
      "source": [
        "import matplotlib.pyplot as plt"
      ],
      "execution_count": 36,
      "outputs": []
    },
    {
      "cell_type": "code",
      "metadata": {
        "scrolled": true,
        "id": "x1LuOutX6OWm",
        "colab": {
          "base_uri": "https://localhost:8080/",
          "height": 279
        },
        "outputId": "13da7c98-2952-4515-a6a5-9b81e3cb7e89"
      },
      "source": [
        "plt.plot(cn.losses)\n",
        "plt.plot(cn.val_losses)\n",
        "plt.ylabel('loss')\n",
        "plt.xlabel('iteration')\n",
        "plt.legend(['train_loss', 'val_loss'])\n",
        "plt.show()"
      ],
      "execution_count": null,
      "outputs": [
        {
          "output_type": "display_data",
          "data": {
            "image/png": "[encoded data removed]",
            "text/plain": [
              "<Figure size 432x288 with 1 Axes>"
            ]
          },
          "metadata": {
            "tags": [],
            "needs_background": "light"
          }
        }
      ]
    },
    {
      "cell_type": "code",
      "metadata": {
        "scrolled": false,
        "id": "41In0JlI6OWm",
        "colab": {
          "base_uri": "https://localhost:8080/"
        },
        "outputId": "17032e5a-0e0c-4a2f-effb-7132eb18a503"
      },
      "source": [
        "cn.score(x_val, y_val_encoded)"
      ],
      "execution_count": 37,
      "outputs": [
        {
          "output_type": "execute_result",
          "data": {
            "text/plain": [
              "0.8786666666666667"
            ]
          },
          "metadata": {},
          "execution_count": 37
        }
      ]
    },
    {
      "cell_type": "markdown",
      "metadata": {
        "id": "ayt5wxyd6OWm"
      },
      "source": [
        "## 08-5 케라스로 합성곱 신경망 모델을 만듭니다."
      ]
    },
    {
      "cell_type": "code",
      "metadata": {
        "id": "H3YNxuTm6OWm"
      },
      "source": [
        "from tensorflow.keras.layers import Conv2D, MaxPooling2D, Flatten, Dense"
      ],
      "execution_count": 38,
      "outputs": []
    },
    {
      "cell_type": "code",
      "metadata": {
        "id": "bGvfR1c86OWn"
      },
      "source": [
        "conv1 = tf.keras.Sequential()\n",
        "conv1.add(Conv2D(10, (3, 3), activation='relu', padding='same', input_shape=(28, 28, 1)))\n",
        "conv1.add(MaxPooling2D((2, 2)))\n",
        "conv1.add(Flatten())\n",
        "conv1.add(Dense(100, activation='relu'))\n",
        "conv1.add(Dense(10, activation='softmax'))"
      ],
      "execution_count": 39,
      "outputs": []
    },
    {
      "cell_type": "code",
      "metadata": {
        "scrolled": true,
        "id": "xngFCMyp6OWn",
        "colab": {
          "base_uri": "https://localhost:8080/"
        },
        "outputId": "4ad10927-05db-4974-8869-f1c7b34a73b1"
      },
      "source": [
        "conv1.summary()"
      ],
      "execution_count": 40,
      "outputs": [
        {
          "output_type": "stream",
          "name": "stdout",
          "text": [
            "Model: \"sequential\"\n",
            "_________________________________________________________________\n",
            "Layer (type)                 Output Shape              Param #   \n",
            "=================================================================\n",
            "conv2d (Conv2D)              (None, 28, 28, 10)        100       \n",
            "_________________________________________________________________\n",
            "max_pooling2d (MaxPooling2D) (None, 14, 14, 10)        0         \n",
            "_________________________________________________________________\n",
            "flatten (Flatten)            (None, 1960)              0         \n",
            "_________________________________________________________________\n",
            "dense (Dense)                (None, 100)               196100    \n",
            "_________________________________________________________________\n",
            "dense_1 (Dense)              (None, 10)                1010      \n",
            "=================================================================\n",
            "Total params: 197,210\n",
            "Trainable params: 197,210\n",
            "Non-trainable params: 0\n",
            "_________________________________________________________________\n"
          ]
        }
      ]
    },
    {
      "cell_type": "code",
      "metadata": {
        "id": "2Mp-BDDL6OWn"
      },
      "source": [
        "conv1.compile(optimizer='adam', loss='categorical_crossentropy',\n",
        "              metrics=['accuracy'])"
      ],
      "execution_count": 41,
      "outputs": []
    },
    {
      "cell_type": "code",
      "metadata": {
        "id": "6NKXTSSi6OWn",
        "colab": {
          "base_uri": "https://localhost:8080/"
        },
        "outputId": "75bd08a3-50dd-42c0-f96b-052cf1d86d34"
      },
      "source": [
        "history = conv1.fit(x_train, y_train_encoded, epochs=20, \n",
        "                    validation_data=(x_val, y_val_encoded))"
      ],
      "execution_count": 42,
      "outputs": [
        {
          "output_type": "stream",
          "name": "stdout",
          "text": [
            "Epoch 1/20\n",
            "1500/1500 [==============================] - 21s 14ms/step - loss: 0.4409 - accuracy: 0.8447 - val_loss: 0.3274 - val_accuracy: 0.8850\n",
            "Epoch 2/20\n",
            "1500/1500 [==============================] - 20s 13ms/step - loss: 0.3056 - accuracy: 0.8898 - val_loss: 0.2939 - val_accuracy: 0.8928\n",
            "Epoch 3/20\n",
            "1500/1500 [==============================] - 20s 13ms/step - loss: 0.2596 - accuracy: 0.9054 - val_loss: 0.2905 - val_accuracy: 0.8961\n",
            "Epoch 4/20\n",
            "1500/1500 [==============================] - 20s 13ms/step - loss: 0.2265 - accuracy: 0.9156 - val_loss: 0.2612 - val_accuracy: 0.9087\n",
            "Epoch 5/20\n",
            "1500/1500 [==============================] - 20s 13ms/step - loss: 0.2004 - accuracy: 0.9271 - val_loss: 0.2579 - val_accuracy: 0.9095\n",
            "Epoch 6/20\n",
            "1500/1500 [==============================] - 20s 13ms/step - loss: 0.1793 - accuracy: 0.9339 - val_loss: 0.2574 - val_accuracy: 0.9109\n",
            "Epoch 7/20\n",
            "1500/1500 [==============================] - 20s 13ms/step - loss: 0.1598 - accuracy: 0.9409 - val_loss: 0.2549 - val_accuracy: 0.9138\n",
            "Epoch 8/20\n",
            "1500/1500 [==============================] - 20s 13ms/step - loss: 0.1424 - accuracy: 0.9487 - val_loss: 0.2633 - val_accuracy: 0.9146\n",
            "Epoch 9/20\n",
            "1500/1500 [==============================] - 20s 13ms/step - loss: 0.1275 - accuracy: 0.9536 - val_loss: 0.2754 - val_accuracy: 0.9120\n",
            "Epoch 10/20\n",
            "1500/1500 [==============================] - 20s 13ms/step - loss: 0.1140 - accuracy: 0.9580 - val_loss: 0.2897 - val_accuracy: 0.9115\n",
            "Epoch 11/20\n",
            "1500/1500 [==============================] - 20s 13ms/step - loss: 0.1004 - accuracy: 0.9639 - val_loss: 0.2759 - val_accuracy: 0.9141\n",
            "Epoch 12/20\n",
            "1500/1500 [==============================] - 20s 13ms/step - loss: 0.0895 - accuracy: 0.9670 - val_loss: 0.2763 - val_accuracy: 0.9172\n",
            "Epoch 13/20\n",
            "1500/1500 [==============================] - 20s 13ms/step - loss: 0.0778 - accuracy: 0.9724 - val_loss: 0.3134 - val_accuracy: 0.9158\n",
            "Epoch 14/20\n",
            "1500/1500 [==============================] - 20s 13ms/step - loss: 0.0712 - accuracy: 0.9752 - val_loss: 0.3248 - val_accuracy: 0.9158\n",
            "Epoch 15/20\n",
            "1500/1500 [==============================] - 20s 14ms/step - loss: 0.0612 - accuracy: 0.9782 - val_loss: 0.3323 - val_accuracy: 0.9143\n",
            "Epoch 16/20\n",
            "1500/1500 [==============================] - 20s 13ms/step - loss: 0.0551 - accuracy: 0.9800 - val_loss: 0.3553 - val_accuracy: 0.9126\n",
            "Epoch 17/20\n",
            "1500/1500 [==============================] - 20s 13ms/step - loss: 0.0467 - accuracy: 0.9833 - val_loss: 0.3772 - val_accuracy: 0.9131\n",
            "Epoch 18/20\n",
            "1500/1500 [==============================] - 20s 13ms/step - loss: 0.0436 - accuracy: 0.9848 - val_loss: 0.3717 - val_accuracy: 0.9129\n",
            "Epoch 19/20\n",
            "1500/1500 [==============================] - 20s 13ms/step - loss: 0.0410 - accuracy: 0.9859 - val_loss: 0.3955 - val_accuracy: 0.9153\n",
            "Epoch 20/20\n",
            "1500/1500 [==============================] - 20s 13ms/step - loss: 0.0331 - accuracy: 0.9890 - val_loss: 0.4258 - val_accuracy: 0.9104\n"
          ]
        }
      ]
    },
    {
      "cell_type": "code",
      "metadata": {
        "id": "kMQsHGiy6OWn",
        "colab": {
          "base_uri": "https://localhost:8080/",
          "height": 279
        },
        "outputId": "a0e8b14a-90e4-40b6-dae9-b22c0a61c785"
      },
      "source": [
        "plt.plot(history.history['loss'])\n",
        "plt.plot(history.history['val_loss'])\n",
        "plt.ylabel('loss')\n",
        "plt.xlabel('epoch')\n",
        "plt.legend(['train_loss', 'val_loss'])\n",
        "plt.show()"
      ],
      "execution_count": 43,
      "outputs": [
        {
          "output_type": "display_data",
          "data": {
            "image/png": "[encoded data removed]",
            "text/plain": [
              "<Figure size 432x288 with 1 Axes>"
            ]
          },
          "metadata": {
            "needs_background": "light"
          }
        }
      ]
    },
    {
      "cell_type": "code",
      "metadata": {
        "id": "40-oCtFP6OWn",
        "colab": {
          "base_uri": "https://localhost:8080/",
          "height": 279
        },
        "outputId": "f358be0c-c6b8-4f54-9fc9-7e5fe5e97085"
      },
      "source": [
        "plt.plot(history.history['accuracy'])\n",
        "plt.plot(history.history['val_accuracy'])\n",
        "plt.ylabel('accuracy')\n",
        "plt.xlabel('epoch')\n",
        "plt.legend(['train_accuracy', 'val_accuracy'])\n",
        "plt.show()"
      ],
      "execution_count": 44,
      "outputs": [
        {
          "output_type": "display_data",
          "data": {
            "image/png": "[encoded data removed]",
            "text/plain": [
              "<Figure size 432x288 with 1 Axes>"
            ]
          },
          "metadata": {
            "needs_background": "light"
          }
        }
      ]
    },
    {
      "cell_type": "code",
      "metadata": {
        "id": "59yJsFvS6OWn"
      },
      "source": [
        "loss, accuracy = conv1.evaluate(x_val, y_val_encoded, verbose=0)"
      ],
      "execution_count": 45,
      "outputs": []
    },
    {
      "cell_type": "code",
      "metadata": {
        "id": "2Xf6dRhF6OWo",
        "colab": {
          "base_uri": "https://localhost:8080/"
        },
        "outputId": "a50ce0d9-4bc4-43ae-e2b3-779c7a8eb212"
      },
      "source": [
        "print(accuracy)"
      ],
      "execution_count": 46,
      "outputs": [
        {
          "output_type": "stream",
          "name": "stdout",
          "text": [
            "0.9104166626930237\n"
          ]
        }
      ]
    },
    {
      "cell_type": "code",
      "metadata": {
        "id": "jYNO9PnB6OWo"
      },
      "source": [
        "from tensorflow.keras.layers import Dropout"
      ],
      "execution_count": 47,
      "outputs": []
    },
    {
      "cell_type": "code",
      "metadata": {
        "id": "iMGUZIjb6OWo"
      },
      "source": [
        "conv2 = tf.keras.Sequential()\n",
        "conv2.add(Conv2D(10, (3, 3), activation='relu', padding='same', input_shape=(28, 28, 1)))\n",
        "conv2.add(MaxPooling2D((2, 2)))\n",
        "conv2.add(Flatten())\n",
        "conv2.add(Dropout(0.5))\n",
        "conv2.add(Dense(100, activation='relu'))\n",
        "conv2.add(Dense(10, activation='softmax'))"
      ],
      "execution_count": 48,
      "outputs": []
    },
    {
      "cell_type": "code",
      "metadata": {
        "scrolled": true,
        "id": "aVBRIZNz6OWo",
        "colab": {
          "base_uri": "https://localhost:8080/"
        },
        "outputId": "39830a03-14b2-4917-ff3f-36f700e5db81"
      },
      "source": [
        "conv2.summary()"
      ],
      "execution_count": 49,
      "outputs": [
        {
          "output_type": "stream",
          "name": "stdout",
          "text": [
            "Model: \"sequential_1\"\n",
            "_________________________________________________________________\n",
            "Layer (type)                 Output Shape              Param #   \n",
            "=================================================================\n",
            "conv2d_1 (Conv2D)            (None, 28, 28, 10)        100       \n",
            "_________________________________________________________________\n",
            "max_pooling2d_1 (MaxPooling2 (None, 14, 14, 10)        0         \n",
            "_________________________________________________________________\n",
            "flatten_1 (Flatten)          (None, 1960)              0         \n",
            "_________________________________________________________________\n",
            "dropout (Dropout)            (None, 1960)              0         \n",
            "_________________________________________________________________\n",
            "dense_2 (Dense)              (None, 100)               196100    \n",
            "_________________________________________________________________\n",
            "dense_3 (Dense)              (None, 10)                1010      \n",
            "=================================================================\n",
            "Total params: 197,210\n",
            "Trainable params: 197,210\n",
            "Non-trainable params: 0\n",
            "_________________________________________________________________\n"
          ]
        }
      ]
    },
    {
      "cell_type": "code",
      "metadata": {
        "id": "HXzsdchY6OWo"
      },
      "source": [
        "conv2.compile(optimizer='adam', loss='categorical_crossentropy',\n",
        "              metrics=['accuracy'])"
      ],
      "execution_count": 50,
      "outputs": []
    },
    {
      "cell_type": "code",
      "metadata": {
        "id": "SJ8qDlnv6OWo",
        "colab": {
          "base_uri": "https://localhost:8080/"
        },
        "outputId": "26edceff-8ed8-4ea4-c547-696a0c23119a"
      },
      "source": [
        "history = conv2.fit(x_train, y_train_encoded, epochs=20, \n",
        "                    validation_data=(x_val, y_val_encoded))"
      ],
      "execution_count": 51,
      "outputs": [
        {
          "output_type": "stream",
          "name": "stdout",
          "text": [
            "Epoch 1/20\n",
            "1500/1500 [==============================] - 22s 14ms/step - loss: 0.5048 - accuracy: 0.8181 - val_loss: 0.3496 - val_accuracy: 0.8798\n",
            "Epoch 2/20\n",
            "1500/1500 [==============================] - 21s 14ms/step - loss: 0.3761 - accuracy: 0.8635 - val_loss: 0.3066 - val_accuracy: 0.8889\n",
            "Epoch 3/20\n",
            "1500/1500 [==============================] - 21s 14ms/step - loss: 0.3332 - accuracy: 0.8785 - val_loss: 0.2872 - val_accuracy: 0.8969\n",
            "Epoch 4/20\n",
            "1500/1500 [==============================] - 21s 14ms/step - loss: 0.3028 - accuracy: 0.8885 - val_loss: 0.2619 - val_accuracy: 0.9068\n",
            "Epoch 5/20\n",
            "1500/1500 [==============================] - 21s 14ms/step - loss: 0.2853 - accuracy: 0.8957 - val_loss: 0.2616 - val_accuracy: 0.9024\n",
            "Epoch 6/20\n",
            "1500/1500 [==============================] - 21s 14ms/step - loss: 0.2685 - accuracy: 0.8997 - val_loss: 0.2559 - val_accuracy: 0.9053\n",
            "Epoch 7/20\n",
            "1500/1500 [==============================] - 21s 14ms/step - loss: 0.2529 - accuracy: 0.9055 - val_loss: 0.2423 - val_accuracy: 0.9122\n",
            "Epoch 8/20\n",
            "1500/1500 [==============================] - 21s 14ms/step - loss: 0.2424 - accuracy: 0.9084 - val_loss: 0.2347 - val_accuracy: 0.9153\n",
            "Epoch 9/20\n",
            "1500/1500 [==============================] - 21s 14ms/step - loss: 0.2357 - accuracy: 0.9117 - val_loss: 0.2300 - val_accuracy: 0.9167\n",
            "Epoch 10/20\n",
            "1500/1500 [==============================] - 21s 14ms/step - loss: 0.2253 - accuracy: 0.9155 - val_loss: 0.2327 - val_accuracy: 0.9159\n",
            "Epoch 11/20\n",
            "1500/1500 [==============================] - 21s 14ms/step - loss: 0.2188 - accuracy: 0.9185 - val_loss: 0.2400 - val_accuracy: 0.9128\n",
            "Epoch 12/20\n",
            "1500/1500 [==============================] - 21s 14ms/step - loss: 0.2112 - accuracy: 0.9209 - val_loss: 0.2237 - val_accuracy: 0.9200\n",
            "Epoch 13/20\n",
            "1500/1500 [==============================] - 21s 14ms/step - loss: 0.2062 - accuracy: 0.9229 - val_loss: 0.2223 - val_accuracy: 0.9218\n",
            "Epoch 14/20\n",
            "1500/1500 [==============================] - 21s 14ms/step - loss: 0.2007 - accuracy: 0.9250 - val_loss: 0.2313 - val_accuracy: 0.9172\n",
            "Epoch 15/20\n",
            "1500/1500 [==============================] - 21s 14ms/step - loss: 0.1963 - accuracy: 0.9265 - val_loss: 0.2232 - val_accuracy: 0.9219\n",
            "Epoch 16/20\n",
            "1500/1500 [==============================] - 21s 14ms/step - loss: 0.1891 - accuracy: 0.9280 - val_loss: 0.2281 - val_accuracy: 0.9193\n",
            "Epoch 17/20\n",
            "1500/1500 [==============================] - 21s 14ms/step - loss: 0.1870 - accuracy: 0.9286 - val_loss: 0.2220 - val_accuracy: 0.9226\n",
            "Epoch 18/20\n",
            "1500/1500 [==============================] - 21s 14ms/step - loss: 0.1823 - accuracy: 0.9315 - val_loss: 0.2368 - val_accuracy: 0.9175\n",
            "Epoch 19/20\n",
            "1500/1500 [==============================] - 21s 14ms/step - loss: 0.1775 - accuracy: 0.9334 - val_loss: 0.2236 - val_accuracy: 0.9251\n",
            "Epoch 20/20\n",
            "1500/1500 [==============================] - 21s 14ms/step - loss: 0.1769 - accuracy: 0.9317 - val_loss: 0.2261 - val_accuracy: 0.9209\n"
          ]
        }
      ]
    },
    {
      "cell_type": "code",
      "metadata": {
        "id": "QomOeHer6OWo",
        "colab": {
          "base_uri": "https://localhost:8080/",
          "height": 279
        },
        "outputId": "9d62fdbc-206d-4787-f003-850bda0639ed"
      },
      "source": [
        "plt.plot(history.history['loss'])\n",
        "plt.plot(history.history['val_loss'])\n",
        "plt.ylabel('loss')\n",
        "plt.xlabel('epoch')\n",
        "plt.legend(['train_loss', 'val_loss'])\n",
        "plt.show()"
      ],
      "execution_count": 52,
      "outputs": [
        {
          "output_type": "display_data",
          "data": {
            "image/png": "[encoded data removed]",
            "text/plain": [
              "<Figure size 432x288 with 1 Axes>"
            ]
          },
          "metadata": {
            "needs_background": "light"
          }
        }
      ]
    },
    {
      "cell_type": "code",
      "metadata": {
        "scrolled": true,
        "id": "LxbZ6Poa6OWp",
        "colab": {
          "base_uri": "https://localhost:8080/",
          "height": 279
        },
        "outputId": "4367d6a3-e110-4db2-b036-5f3ed96b8d12"
      },
      "source": [
        "plt.plot(history.history['accuracy'])\n",
        "plt.plot(history.history['val_accuracy'])\n",
        "plt.ylabel('accuracy')\n",
        "plt.xlabel('epoch')\n",
        "plt.legend(['train_accuracy', 'val_accuracy'])\n",
        "plt.show()"
      ],
      "execution_count": 53,
      "outputs": [
        {
          "output_type": "display_data",
          "data": {
            "image/png": "[encoded data removed]",
            "text/plain": [
              "<Figure size 432x288 with 1 Axes>"
            ]
          },
          "metadata": {
            "needs_background": "light"
          }
        }
      ]
    },
    {
      "cell_type": "code",
      "metadata": {
        "id": "IzEjOY7I6OWp"
      },
      "source": [
        "loss, accuracy = conv2.evaluate(x_val, y_val_encoded, verbose=0)"
      ],
      "execution_count": 54,
      "outputs": []
    },
    {
      "cell_type": "code",
      "metadata": {
        "id": "ecBCf5QD6OWp",
        "colab": {
          "base_uri": "https://localhost:8080/"
        },
        "outputId": "50bd630e-f6ab-4ebd-c642-cd41a29167a6"
      },
      "source": [
        "print(accuracy)"
      ],
      "execution_count": 55,
      "outputs": [
        {
          "output_type": "stream",
          "name": "stdout",
          "text": [
            "0.9209166765213013\n"
          ]
        }
      ]
    }
  ]
}